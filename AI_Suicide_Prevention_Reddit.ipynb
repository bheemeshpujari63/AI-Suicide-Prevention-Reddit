{
  "nbformat": 4,
  "nbformat_minor": 0,
  "metadata": {
    "colab": {
      "provenance": [],
      "authorship_tag": "ABX9TyNvP3lvUMTaNJHZtx8+9e/y",
      "include_colab_link": true
    },
    "kernelspec": {
      "name": "python3",
      "display_name": "Python 3"
    },
    "language_info": {
      "name": "python"
    }
  },
  "cells": [
    {
      "cell_type": "markdown",
      "metadata": {
        "id": "view-in-github",
        "colab_type": "text"
      },
      "source": [
        "<a href=\"https://colab.research.google.com/github/bheemeshpujari63/AI-Suicide-Prevention-Reddit/blob/main/AI_Suicide_Prevention_Reddit.ipynb\" target=\"_parent\"><img src=\"https://colab.research.google.com/assets/colab-badge.svg\" alt=\"Open In Colab\"/></a>"
      ]
    },
    {
      "cell_type": "markdown",
      "source": [
        "# AI-Powered Suicide Prevention from Reddit (GSoC Submission)"
      ],
      "metadata": {
        "id": "VZQSGUyMF-kk"
      }
    },
    {
      "cell_type": "markdown",
      "source": [
        "## **1. Setup & Installation**\n",
        "- Install required libraries."
      ],
      "metadata": {
        "id": "5Yl8f_7OGJLG"
      }
    },
    {
      "cell_type": "code",
      "source": [
        "# Install dependencies\n",
        "!pip install vaderSentiment gensim pandas matplotlib folium nltk spacy praw\n",
        "!python -m spacy download en_core_web_sm\n",
        "!python -m nltk.downloader punkt\n",
        "\n",
        "# Import libraries\n",
        "import pandas as pd\n",
        "from vaderSentiment.vaderSentiment import SentimentIntensityAnalyzer\n",
        "import matplotlib.pyplot as plt\n",
        "from gensim.models import Word2Vec\n",
        "from nltk.tokenize import word_tokenize\n",
        "import folium\n",
        "from folium.plugins import HeatMap\n",
        "import spacy\n",
        "import nltk\n",
        "\n",
        "print(\"Setup Complete\")"
      ],
      "metadata": {
        "colab": {
          "base_uri": "https://localhost:8080/"
        },
        "id": "_PiudK56S0Tq",
        "outputId": "f190ea52-f720-4128-dcb0-145e63ad9461"
      },
      "execution_count": 3,
      "outputs": [
        {
          "output_type": "stream",
          "name": "stdout",
          "text": [
            "Requirement already satisfied: vaderSentiment in /usr/local/lib/python3.11/dist-packages (3.3.2)\n",
            "Requirement already satisfied: gensim in /usr/local/lib/python3.11/dist-packages (4.3.3)\n",
            "Requirement already satisfied: pandas in /usr/local/lib/python3.11/dist-packages (2.2.2)\n",
            "Requirement already satisfied: matplotlib in /usr/local/lib/python3.11/dist-packages (3.10.0)\n",
            "Requirement already satisfied: folium in /usr/local/lib/python3.11/dist-packages (0.19.5)\n",
            "Requirement already satisfied: nltk in /usr/local/lib/python3.11/dist-packages (3.9.1)\n",
            "Requirement already satisfied: spacy in /usr/local/lib/python3.11/dist-packages (3.8.5)\n",
            "Collecting praw\n",
            "  Downloading praw-7.8.1-py3-none-any.whl.metadata (9.4 kB)\n",
            "Requirement already satisfied: requests in /usr/local/lib/python3.11/dist-packages (from vaderSentiment) (2.32.3)\n",
            "Requirement already satisfied: numpy<2.0,>=1.18.5 in /usr/local/lib/python3.11/dist-packages (from gensim) (1.26.4)\n",
            "Requirement already satisfied: scipy<1.14.0,>=1.7.0 in /usr/local/lib/python3.11/dist-packages (from gensim) (1.13.1)\n",
            "Requirement already satisfied: smart-open>=1.8.1 in /usr/local/lib/python3.11/dist-packages (from gensim) (7.1.0)\n",
            "Requirement already satisfied: python-dateutil>=2.8.2 in /usr/local/lib/python3.11/dist-packages (from pandas) (2.8.2)\n",
            "Requirement already satisfied: pytz>=2020.1 in /usr/local/lib/python3.11/dist-packages (from pandas) (2025.2)\n",
            "Requirement already satisfied: tzdata>=2022.7 in /usr/local/lib/python3.11/dist-packages (from pandas) (2025.2)\n",
            "Requirement already satisfied: contourpy>=1.0.1 in /usr/local/lib/python3.11/dist-packages (from matplotlib) (1.3.1)\n",
            "Requirement already satisfied: cycler>=0.10 in /usr/local/lib/python3.11/dist-packages (from matplotlib) (0.12.1)\n",
            "Requirement already satisfied: fonttools>=4.22.0 in /usr/local/lib/python3.11/dist-packages (from matplotlib) (4.57.0)\n",
            "Requirement already satisfied: kiwisolver>=1.3.1 in /usr/local/lib/python3.11/dist-packages (from matplotlib) (1.4.8)\n",
            "Requirement already satisfied: packaging>=20.0 in /usr/local/lib/python3.11/dist-packages (from matplotlib) (24.2)\n",
            "Requirement already satisfied: pillow>=8 in /usr/local/lib/python3.11/dist-packages (from matplotlib) (11.1.0)\n",
            "Requirement already satisfied: pyparsing>=2.3.1 in /usr/local/lib/python3.11/dist-packages (from matplotlib) (3.2.3)\n",
            "Requirement already satisfied: branca>=0.6.0 in /usr/local/lib/python3.11/dist-packages (from folium) (0.8.1)\n",
            "Requirement already satisfied: jinja2>=2.9 in /usr/local/lib/python3.11/dist-packages (from folium) (3.1.6)\n",
            "Requirement already satisfied: xyzservices in /usr/local/lib/python3.11/dist-packages (from folium) (2025.1.0)\n",
            "Requirement already satisfied: click in /usr/local/lib/python3.11/dist-packages (from nltk) (8.1.8)\n",
            "Requirement already satisfied: joblib in /usr/local/lib/python3.11/dist-packages (from nltk) (1.4.2)\n",
            "Requirement already satisfied: regex>=2021.8.3 in /usr/local/lib/python3.11/dist-packages (from nltk) (2024.11.6)\n",
            "Requirement already satisfied: tqdm in /usr/local/lib/python3.11/dist-packages (from nltk) (4.67.1)\n",
            "Requirement already satisfied: spacy-legacy<3.1.0,>=3.0.11 in /usr/local/lib/python3.11/dist-packages (from spacy) (3.0.12)\n",
            "Requirement already satisfied: spacy-loggers<2.0.0,>=1.0.0 in /usr/local/lib/python3.11/dist-packages (from spacy) (1.0.5)\n",
            "Requirement already satisfied: murmurhash<1.1.0,>=0.28.0 in /usr/local/lib/python3.11/dist-packages (from spacy) (1.0.12)\n",
            "Requirement already satisfied: cymem<2.1.0,>=2.0.2 in /usr/local/lib/python3.11/dist-packages (from spacy) (2.0.11)\n",
            "Requirement already satisfied: preshed<3.1.0,>=3.0.2 in /usr/local/lib/python3.11/dist-packages (from spacy) (3.0.9)\n",
            "Requirement already satisfied: thinc<8.4.0,>=8.3.4 in /usr/local/lib/python3.11/dist-packages (from spacy) (8.3.4)\n",
            "Requirement already satisfied: wasabi<1.2.0,>=0.9.1 in /usr/local/lib/python3.11/dist-packages (from spacy) (1.1.3)\n",
            "Requirement already satisfied: srsly<3.0.0,>=2.4.3 in /usr/local/lib/python3.11/dist-packages (from spacy) (2.5.1)\n",
            "Requirement already satisfied: catalogue<2.1.0,>=2.0.6 in /usr/local/lib/python3.11/dist-packages (from spacy) (2.0.10)\n",
            "Requirement already satisfied: weasel<0.5.0,>=0.1.0 in /usr/local/lib/python3.11/dist-packages (from spacy) (0.4.1)\n",
            "Requirement already satisfied: typer<1.0.0,>=0.3.0 in /usr/local/lib/python3.11/dist-packages (from spacy) (0.15.2)\n",
            "Requirement already satisfied: pydantic!=1.8,!=1.8.1,<3.0.0,>=1.7.4 in /usr/local/lib/python3.11/dist-packages (from spacy) (2.11.2)\n",
            "Requirement already satisfied: setuptools in /usr/local/lib/python3.11/dist-packages (from spacy) (75.2.0)\n",
            "Requirement already satisfied: langcodes<4.0.0,>=3.2.0 in /usr/local/lib/python3.11/dist-packages (from spacy) (3.5.0)\n",
            "Collecting prawcore<3,>=2.4 (from praw)\n",
            "  Downloading prawcore-2.4.0-py3-none-any.whl.metadata (5.0 kB)\n",
            "Collecting update_checker>=0.18 (from praw)\n",
            "  Downloading update_checker-0.18.0-py3-none-any.whl.metadata (2.3 kB)\n",
            "Requirement already satisfied: websocket-client>=0.54.0 in /usr/local/lib/python3.11/dist-packages (from praw) (1.8.0)\n",
            "Requirement already satisfied: MarkupSafe>=2.0 in /usr/local/lib/python3.11/dist-packages (from jinja2>=2.9->folium) (3.0.2)\n",
            "Requirement already satisfied: language-data>=1.2 in /usr/local/lib/python3.11/dist-packages (from langcodes<4.0.0,>=3.2.0->spacy) (1.3.0)\n",
            "Requirement already satisfied: annotated-types>=0.6.0 in /usr/local/lib/python3.11/dist-packages (from pydantic!=1.8,!=1.8.1,<3.0.0,>=1.7.4->spacy) (0.7.0)\n",
            "Requirement already satisfied: pydantic-core==2.33.1 in /usr/local/lib/python3.11/dist-packages (from pydantic!=1.8,!=1.8.1,<3.0.0,>=1.7.4->spacy) (2.33.1)\n",
            "Requirement already satisfied: typing-extensions>=4.12.2 in /usr/local/lib/python3.11/dist-packages (from pydantic!=1.8,!=1.8.1,<3.0.0,>=1.7.4->spacy) (4.13.1)\n",
            "Requirement already satisfied: typing-inspection>=0.4.0 in /usr/local/lib/python3.11/dist-packages (from pydantic!=1.8,!=1.8.1,<3.0.0,>=1.7.4->spacy) (0.4.0)\n",
            "Requirement already satisfied: six>=1.5 in /usr/local/lib/python3.11/dist-packages (from python-dateutil>=2.8.2->pandas) (1.17.0)\n",
            "Requirement already satisfied: charset-normalizer<4,>=2 in /usr/local/lib/python3.11/dist-packages (from requests->vaderSentiment) (3.4.1)\n",
            "Requirement already satisfied: idna<4,>=2.5 in /usr/local/lib/python3.11/dist-packages (from requests->vaderSentiment) (3.10)\n",
            "Requirement already satisfied: urllib3<3,>=1.21.1 in /usr/local/lib/python3.11/dist-packages (from requests->vaderSentiment) (2.3.0)\n",
            "Requirement already satisfied: certifi>=2017.4.17 in /usr/local/lib/python3.11/dist-packages (from requests->vaderSentiment) (2025.1.31)\n",
            "Requirement already satisfied: wrapt in /usr/local/lib/python3.11/dist-packages (from smart-open>=1.8.1->gensim) (1.17.2)\n",
            "Requirement already satisfied: blis<1.3.0,>=1.2.0 in /usr/local/lib/python3.11/dist-packages (from thinc<8.4.0,>=8.3.4->spacy) (1.2.1)\n",
            "Requirement already satisfied: confection<1.0.0,>=0.0.1 in /usr/local/lib/python3.11/dist-packages (from thinc<8.4.0,>=8.3.4->spacy) (0.1.5)\n",
            "Requirement already satisfied: shellingham>=1.3.0 in /usr/local/lib/python3.11/dist-packages (from typer<1.0.0,>=0.3.0->spacy) (1.5.4)\n",
            "Requirement already satisfied: rich>=10.11.0 in /usr/local/lib/python3.11/dist-packages (from typer<1.0.0,>=0.3.0->spacy) (13.9.4)\n",
            "Requirement already satisfied: cloudpathlib<1.0.0,>=0.7.0 in /usr/local/lib/python3.11/dist-packages (from weasel<0.5.0,>=0.1.0->spacy) (0.21.0)\n",
            "Requirement already satisfied: marisa-trie>=1.1.0 in /usr/local/lib/python3.11/dist-packages (from language-data>=1.2->langcodes<4.0.0,>=3.2.0->spacy) (1.2.1)\n",
            "Requirement already satisfied: markdown-it-py>=2.2.0 in /usr/local/lib/python3.11/dist-packages (from rich>=10.11.0->typer<1.0.0,>=0.3.0->spacy) (3.0.0)\n",
            "Requirement already satisfied: pygments<3.0.0,>=2.13.0 in /usr/local/lib/python3.11/dist-packages (from rich>=10.11.0->typer<1.0.0,>=0.3.0->spacy) (2.18.0)\n",
            "Requirement already satisfied: mdurl~=0.1 in /usr/local/lib/python3.11/dist-packages (from markdown-it-py>=2.2.0->rich>=10.11.0->typer<1.0.0,>=0.3.0->spacy) (0.1.2)\n",
            "Downloading praw-7.8.1-py3-none-any.whl (189 kB)\n",
            "\u001b[2K   \u001b[90m━━━━━━━━━━━━━━━━━━━━━━━━━━━━━━━━━━━━━━━━\u001b[0m \u001b[32m189.3/189.3 kB\u001b[0m \u001b[31m6.4 MB/s\u001b[0m eta \u001b[36m0:00:00\u001b[0m\n",
            "\u001b[?25hDownloading prawcore-2.4.0-py3-none-any.whl (17 kB)\n",
            "Downloading update_checker-0.18.0-py3-none-any.whl (7.0 kB)\n",
            "Installing collected packages: update_checker, prawcore, praw\n",
            "Successfully installed praw-7.8.1 prawcore-2.4.0 update_checker-0.18.0\n",
            "Collecting en-core-web-sm==3.8.0\n",
            "  Downloading https://github.com/explosion/spacy-models/releases/download/en_core_web_sm-3.8.0/en_core_web_sm-3.8.0-py3-none-any.whl (12.8 MB)\n",
            "\u001b[2K     \u001b[90m━━━━━━━━━━━━━━━━━━━━━━━━━━━━━━━━━━━━━━━━\u001b[0m \u001b[32m12.8/12.8 MB\u001b[0m \u001b[31m126.1 MB/s\u001b[0m eta \u001b[36m0:00:00\u001b[0m\n",
            "\u001b[?25h\u001b[38;5;2m✔ Download and installation successful\u001b[0m\n",
            "You can now load the package via spacy.load('en_core_web_sm')\n",
            "\u001b[38;5;3m⚠ Restart to reload dependencies\u001b[0m\n",
            "If you are in a Jupyter or Colab notebook, you may need to restart Python in\n",
            "order to load all the package's dependencies. You can do this by selecting the\n",
            "'Restart kernel' or 'Restart runtime' option.\n",
            "<frozen runpy>:128: RuntimeWarning: 'nltk.downloader' found in sys.modules after import of package 'nltk', but prior to execution of 'nltk.downloader'; this may result in unpredictable behaviour\n",
            "[nltk_data] Downloading package punkt to /root/nltk_data...\n",
            "[nltk_data]   Package punkt is already up-to-date!\n",
            "Setup Complete\n"
          ]
        }
      ]
    },
    {
      "cell_type": "markdown",
      "source": [
        "## Task-1"
      ],
      "metadata": {
        "id": "luFmzRXMGDGj"
      }
    },
    {
      "cell_type": "markdown",
      "source": [],
      "metadata": {
        "id": "pwMPSpAlGmId"
      }
    },
    {
      "cell_type": "code",
      "source": [
        "\n",
        "import praw\n",
        "import pandas as pd\n",
        "import re\n",
        "import string\n",
        "from datetime import datetime\n",
        "from nltk.corpus import stopwords\n",
        "from nltk.stem import WordNetLemmatizer\n",
        "from google.colab import drive\n",
        "import nltk\n",
        "import os\n",
        "\n",
        "# Initialize NLTK\n",
        "nltk.download('stopwords')\n",
        "nltk.download('wordnet')\n",
        "\n",
        "# Mount Google Drive\n",
        "drive.mount('/content/drive')\n",
        "\n",
        "# Reddit API Credentials (Replace with your own)\n",
        "CLIENT_ID = \"******\"\n",
        "CLIENT_SECRET = \"******\"\n",
        "USER_AGENT = \"*****\"\n",
        "\n",
        "# Crisis-related keywords (Expanded list)\n",
        "KEYWORDS = [\n",
        "    \"suicidal\", \"depressed\", \"self-harm\", \"overwhelmed\",\n",
        "    \"panic attack\", \"mental breakdown\", \"hopeless\",\n",
        "    \"addiction\", \"relapse\", \"substance abuse\",\n",
        "    \"therapy\", \"counseling\", \"mental health crisis\",\n",
        "    \"lonely\", \"isolated\", \"want to die\"\n",
        "]\n",
        "\n",
        "# Target subreddits\n",
        "SUBREDDITS = [\n",
        "    \"depression\",\n",
        "    \"mentalhealth\",\n",
        "    \"SuicideWatch\",\n",
        "    \"addiction\",\n",
        "    \"anxiety\"\n",
        "]\n",
        "\n",
        "# Output paths in Google Drive\n",
        "OUTPUT_FOLDER = \"/content/drive/MyDrive/Reddit_Mental-Health_Data\"\n",
        "RAW_DATA_PATH = f\"{OUTPUT_FOLDER}/reddit_raw_data.csv\"\n",
        "CLEANED_DATA_PATH = f\"{OUTPUT_FOLDER}/reddit_cleaned_data.csv\"\n",
        "\n",
        "def create_output_folder():\n",
        "    \"\"\"Create output folder in Google Drive if it doesn't exist\"\"\"\n",
        "    if not os.path.exists(OUTPUT_FOLDER):\n",
        "        os.makedirs(OUTPUT_FOLDER)\n",
        "        print(f\"Created directory: {OUTPUT_FOLDER}\")\n",
        "\n",
        "def authenticate_reddit():\n",
        "    \"\"\"Authenticate with Reddit API with error handling\"\"\"\n",
        "    try:\n",
        "        reddit = praw.Reddit(\n",
        "            client_id=CLIENT_ID,\n",
        "            client_secret=CLIENT_SECRET,\n",
        "            user_agent=USER_AGENT\n",
        "        )\n",
        "        # Verify authentication\n",
        "        if reddit.user.me() is None:\n",
        "            print(\"Successfully authenticated (read-only mode)\")\n",
        "        return reddit\n",
        "    except Exception as e:\n",
        "        print(f\"Reddit authentication failed: {str(e)}\")\n",
        "        raise\n",
        "\n",
        "def extract_posts(reddit):\n",
        "    \"\"\"Extract posts with enhanced error handling and progress tracking\"\"\"\n",
        "    posts_data = []\n",
        "    total_extracted = 0\n",
        "\n",
        "    for subreddit_name in SUBREDDITS:\n",
        "        print(f\"\\n🔍 Searching r/{subreddit_name}...\")\n",
        "\n",
        "        try:\n",
        "            subreddit = reddit.subreddit(subreddit_name)\n",
        "\n",
        "            for keyword in KEYWORDS:\n",
        "                print(f\"   Searching for: '{keyword}'\")\n",
        "\n",
        "                try:\n",
        "                    for post in subreddit.search(keyword, limit=25, time_filter='month'):\n",
        "                        posts_data.append({\n",
        "                            \"post_id\": post.id,\n",
        "                            \"timestamp\": datetime.utcfromtimestamp(post.created_utc).isoformat(),\n",
        "                            \"subreddit\": subreddit_name,\n",
        "                            \"keyword\": keyword,\n",
        "                            \"title\": post.title,\n",
        "                            \"content\": post.selftext,\n",
        "                            \"upvotes\": post.score,\n",
        "                            \"comments\": post.num_comments,\n",
        "                            \"url\": f\"https://reddit.com{post.permalink}\"\n",
        "                        })\n",
        "                        total_extracted += 1\n",
        "\n",
        "                except Exception as search_error:\n",
        "                    print(f\"Error searching '{keyword}': {str(search_error)}\")\n",
        "                    continue\n",
        "\n",
        "        except Exception as subreddit_error:\n",
        "            print(f\"Error accessing r/{subreddit_name}: {str(subreddit_error)}\")\n",
        "            continue\n",
        "\n",
        "    print(f\"\\n Successfully extracted {total_extracted} posts\")\n",
        "    return posts_data\n",
        "\n",
        "def clean_text(text):\n",
        "    \"\"\"Enhanced text cleaning with emoji removal and lemmatization\"\"\"\n",
        "    if not isinstance(text, str) or not text.strip():\n",
        "        return \"\"\n",
        "\n",
        "    # Remove URLs\n",
        "    text = re.sub(r'http\\S+|www\\S+|https\\S+', '', text, flags=re.MULTILINE)\n",
        "    # Remove emojis\n",
        "    text = text.encode('ascii', 'ignore').decode('ascii')\n",
        "    # Remove special chars and numbers\n",
        "    text = re.sub(r'[^a-zA-Z\\s]', '', text)\n",
        "    # Convert to lowercase\n",
        "    text = text.lower()\n",
        "    # Remove stopwords\n",
        "    stop_words = set(stopwords.words(\"english\"))\n",
        "    lemmatizer = WordNetLemmatizer()\n",
        "    text = ' '.join([lemmatizer.lemmatize(word) for word in text.split() if word not in stop_words])\n",
        "\n",
        "    return text.strip()\n",
        "\n",
        "def save_data(df, path):\n",
        "    \"\"\"Save DataFrame with error handling\"\"\"\n",
        "    try:\n",
        "        df.to_csv(path, index=False)\n",
        "        print(f\" Data saved to {path}\")\n",
        "    except Exception as e:\n",
        "        print(f\"Failed to save data: {str(e)}\")\n",
        "\n",
        "def main():\n",
        "    \"\"\"Main execution flow with progress tracking\"\"\"\n",
        "    print(\"🚀 Starting Reddit Mental Health Data Extraction\")\n",
        "\n",
        "    create_output_folder()\n",
        "\n",
        "    try:\n",
        "        # Authentication\n",
        "        print(\"\\n Authenticating with Reddit API...\")\n",
        "        reddit = authenticate_reddit()\n",
        "\n",
        "        # Data extraction\n",
        "        print(\"\\n Extracting posts...\")\n",
        "        posts = extract_posts(reddit)\n",
        "\n",
        "        if not posts:\n",
        "            print(\" No posts extracted. Exiting.\")\n",
        "            return\n",
        "\n",
        "        df = pd.DataFrame(posts)\n",
        "\n",
        "        # Data cleaning\n",
        "        print(\"\\n Cleaning data...\")\n",
        "        df['cleaned_content'] = df['content'].apply(clean_text)\n",
        "        df['cleaned_title'] = df['title'].apply(clean_text)\n",
        "\n",
        "        # Save data\n",
        "        print(\"\\n Saving results...\")\n",
        "        save_data(df, RAW_DATA_PATH)\n",
        "\n",
        "        # Create cleaned version\n",
        "        cleaned_df = df.drop(columns=['content', 'title'])\n",
        "        save_data(cleaned_df, CLEANED_DATA_PATH)\n",
        "\n",
        "        # Preview\n",
        "        print(\"\\n Sample of cleaned data:\")\n",
        "        display(cleaned_df.head(3))\n",
        "\n",
        "    except Exception as e:\n",
        "        print(f\"\\n Script failed: {str(e)}\")\n",
        "    finally:\n",
        "        print(\"\\n Script completed\")\n",
        "\n",
        "if __name__ == \"__main__\":\n",
        "    main()"
      ],
      "metadata": {
        "colab": {
          "base_uri": "https://localhost:8080/",
          "height": 1000
        },
        "id": "lESpg10wDOdo",
        "outputId": "49b4b1d3-3adf-489e-ca11-12f9a87d762a"
      },
      "execution_count": 4,
      "outputs": [
        {
          "output_type": "stream",
          "name": "stderr",
          "text": [
            "[nltk_data] Downloading package stopwords to /root/nltk_data...\n",
            "[nltk_data]   Unzipping corpora/stopwords.zip.\n",
            "[nltk_data] Downloading package wordnet to /root/nltk_data...\n"
          ]
        },
        {
          "output_type": "stream",
          "name": "stdout",
          "text": [
            "Mounted at /content/drive\n",
            "🚀 Starting Reddit Mental Health Data Extraction\n"
          ]
        },
        {
          "output_type": "stream",
          "name": "stderr",
          "text": [
            "WARNING:praw:It appears that you are using PRAW in an asynchronous environment.\n",
            "It is strongly recommended to use Async PRAW: https://asyncpraw.readthedocs.io.\n",
            "See https://praw.readthedocs.io/en/latest/getting_started/multiple_instances.html#discord-bots-and-asynchronous-environments for more info.\n",
            "\n"
          ]
        },
        {
          "output_type": "stream",
          "name": "stdout",
          "text": [
            "\n",
            " Authenticating with Reddit API...\n",
            "Successfully authenticated (read-only mode)\n",
            "\n",
            " Extracting posts...\n",
            "\n",
            "🔍 Searching r/depression...\n",
            "   Searching for: 'suicidal'\n"
          ]
        },
        {
          "output_type": "stream",
          "name": "stderr",
          "text": [
            "WARNING:praw:It appears that you are using PRAW in an asynchronous environment.\n",
            "It is strongly recommended to use Async PRAW: https://asyncpraw.readthedocs.io.\n",
            "See https://praw.readthedocs.io/en/latest/getting_started/multiple_instances.html#discord-bots-and-asynchronous-environments for more info.\n",
            "\n"
          ]
        },
        {
          "output_type": "stream",
          "name": "stdout",
          "text": [
            "   Searching for: 'depressed'\n"
          ]
        },
        {
          "output_type": "stream",
          "name": "stderr",
          "text": [
            "WARNING:praw:It appears that you are using PRAW in an asynchronous environment.\n",
            "It is strongly recommended to use Async PRAW: https://asyncpraw.readthedocs.io.\n",
            "See https://praw.readthedocs.io/en/latest/getting_started/multiple_instances.html#discord-bots-and-asynchronous-environments for more info.\n",
            "\n"
          ]
        },
        {
          "output_type": "stream",
          "name": "stdout",
          "text": [
            "   Searching for: 'self-harm'\n"
          ]
        },
        {
          "output_type": "stream",
          "name": "stderr",
          "text": [
            "WARNING:praw:It appears that you are using PRAW in an asynchronous environment.\n",
            "It is strongly recommended to use Async PRAW: https://asyncpraw.readthedocs.io.\n",
            "See https://praw.readthedocs.io/en/latest/getting_started/multiple_instances.html#discord-bots-and-asynchronous-environments for more info.\n",
            "\n"
          ]
        },
        {
          "output_type": "stream",
          "name": "stdout",
          "text": [
            "   Searching for: 'overwhelmed'\n"
          ]
        },
        {
          "output_type": "stream",
          "name": "stderr",
          "text": [
            "WARNING:praw:It appears that you are using PRAW in an asynchronous environment.\n",
            "It is strongly recommended to use Async PRAW: https://asyncpraw.readthedocs.io.\n",
            "See https://praw.readthedocs.io/en/latest/getting_started/multiple_instances.html#discord-bots-and-asynchronous-environments for more info.\n",
            "\n"
          ]
        },
        {
          "output_type": "stream",
          "name": "stdout",
          "text": [
            "   Searching for: 'panic attack'\n"
          ]
        },
        {
          "output_type": "stream",
          "name": "stderr",
          "text": [
            "WARNING:praw:It appears that you are using PRAW in an asynchronous environment.\n",
            "It is strongly recommended to use Async PRAW: https://asyncpraw.readthedocs.io.\n",
            "See https://praw.readthedocs.io/en/latest/getting_started/multiple_instances.html#discord-bots-and-asynchronous-environments for more info.\n",
            "\n"
          ]
        },
        {
          "output_type": "stream",
          "name": "stdout",
          "text": [
            "   Searching for: 'mental breakdown'\n"
          ]
        },
        {
          "output_type": "stream",
          "name": "stderr",
          "text": [
            "WARNING:praw:It appears that you are using PRAW in an asynchronous environment.\n",
            "It is strongly recommended to use Async PRAW: https://asyncpraw.readthedocs.io.\n",
            "See https://praw.readthedocs.io/en/latest/getting_started/multiple_instances.html#discord-bots-and-asynchronous-environments for more info.\n",
            "\n"
          ]
        },
        {
          "output_type": "stream",
          "name": "stdout",
          "text": [
            "   Searching for: 'hopeless'\n"
          ]
        },
        {
          "output_type": "stream",
          "name": "stderr",
          "text": [
            "WARNING:praw:It appears that you are using PRAW in an asynchronous environment.\n",
            "It is strongly recommended to use Async PRAW: https://asyncpraw.readthedocs.io.\n",
            "See https://praw.readthedocs.io/en/latest/getting_started/multiple_instances.html#discord-bots-and-asynchronous-environments for more info.\n",
            "\n"
          ]
        },
        {
          "output_type": "stream",
          "name": "stdout",
          "text": [
            "   Searching for: 'addiction'\n"
          ]
        },
        {
          "output_type": "stream",
          "name": "stderr",
          "text": [
            "WARNING:praw:It appears that you are using PRAW in an asynchronous environment.\n",
            "It is strongly recommended to use Async PRAW: https://asyncpraw.readthedocs.io.\n",
            "See https://praw.readthedocs.io/en/latest/getting_started/multiple_instances.html#discord-bots-and-asynchronous-environments for more info.\n",
            "\n"
          ]
        },
        {
          "output_type": "stream",
          "name": "stdout",
          "text": [
            "   Searching for: 'relapse'\n"
          ]
        },
        {
          "output_type": "stream",
          "name": "stderr",
          "text": [
            "WARNING:praw:It appears that you are using PRAW in an asynchronous environment.\n",
            "It is strongly recommended to use Async PRAW: https://asyncpraw.readthedocs.io.\n",
            "See https://praw.readthedocs.io/en/latest/getting_started/multiple_instances.html#discord-bots-and-asynchronous-environments for more info.\n",
            "\n"
          ]
        },
        {
          "output_type": "stream",
          "name": "stdout",
          "text": [
            "   Searching for: 'substance abuse'\n"
          ]
        },
        {
          "output_type": "stream",
          "name": "stderr",
          "text": [
            "WARNING:praw:It appears that you are using PRAW in an asynchronous environment.\n",
            "It is strongly recommended to use Async PRAW: https://asyncpraw.readthedocs.io.\n",
            "See https://praw.readthedocs.io/en/latest/getting_started/multiple_instances.html#discord-bots-and-asynchronous-environments for more info.\n",
            "\n"
          ]
        },
        {
          "output_type": "stream",
          "name": "stdout",
          "text": [
            "   Searching for: 'therapy'\n"
          ]
        },
        {
          "output_type": "stream",
          "name": "stderr",
          "text": [
            "WARNING:praw:It appears that you are using PRAW in an asynchronous environment.\n",
            "It is strongly recommended to use Async PRAW: https://asyncpraw.readthedocs.io.\n",
            "See https://praw.readthedocs.io/en/latest/getting_started/multiple_instances.html#discord-bots-and-asynchronous-environments for more info.\n",
            "\n"
          ]
        },
        {
          "output_type": "stream",
          "name": "stdout",
          "text": [
            "   Searching for: 'counseling'\n"
          ]
        },
        {
          "output_type": "stream",
          "name": "stderr",
          "text": [
            "WARNING:praw:It appears that you are using PRAW in an asynchronous environment.\n",
            "It is strongly recommended to use Async PRAW: https://asyncpraw.readthedocs.io.\n",
            "See https://praw.readthedocs.io/en/latest/getting_started/multiple_instances.html#discord-bots-and-asynchronous-environments for more info.\n",
            "\n"
          ]
        },
        {
          "output_type": "stream",
          "name": "stdout",
          "text": [
            "   Searching for: 'mental health crisis'\n"
          ]
        },
        {
          "output_type": "stream",
          "name": "stderr",
          "text": [
            "WARNING:praw:It appears that you are using PRAW in an asynchronous environment.\n",
            "It is strongly recommended to use Async PRAW: https://asyncpraw.readthedocs.io.\n",
            "See https://praw.readthedocs.io/en/latest/getting_started/multiple_instances.html#discord-bots-and-asynchronous-environments for more info.\n",
            "\n"
          ]
        },
        {
          "output_type": "stream",
          "name": "stdout",
          "text": [
            "   Searching for: 'lonely'\n"
          ]
        },
        {
          "output_type": "stream",
          "name": "stderr",
          "text": [
            "WARNING:praw:It appears that you are using PRAW in an asynchronous environment.\n",
            "It is strongly recommended to use Async PRAW: https://asyncpraw.readthedocs.io.\n",
            "See https://praw.readthedocs.io/en/latest/getting_started/multiple_instances.html#discord-bots-and-asynchronous-environments for more info.\n",
            "\n"
          ]
        },
        {
          "output_type": "stream",
          "name": "stdout",
          "text": [
            "   Searching for: 'isolated'\n"
          ]
        },
        {
          "output_type": "stream",
          "name": "stderr",
          "text": [
            "WARNING:praw:It appears that you are using PRAW in an asynchronous environment.\n",
            "It is strongly recommended to use Async PRAW: https://asyncpraw.readthedocs.io.\n",
            "See https://praw.readthedocs.io/en/latest/getting_started/multiple_instances.html#discord-bots-and-asynchronous-environments for more info.\n",
            "\n"
          ]
        },
        {
          "output_type": "stream",
          "name": "stdout",
          "text": [
            "   Searching for: 'want to die'\n"
          ]
        },
        {
          "output_type": "stream",
          "name": "stderr",
          "text": [
            "WARNING:praw:It appears that you are using PRAW in an asynchronous environment.\n",
            "It is strongly recommended to use Async PRAW: https://asyncpraw.readthedocs.io.\n",
            "See https://praw.readthedocs.io/en/latest/getting_started/multiple_instances.html#discord-bots-and-asynchronous-environments for more info.\n",
            "\n"
          ]
        },
        {
          "output_type": "stream",
          "name": "stdout",
          "text": [
            "\n",
            "🔍 Searching r/mentalhealth...\n",
            "   Searching for: 'suicidal'\n"
          ]
        },
        {
          "output_type": "stream",
          "name": "stderr",
          "text": [
            "WARNING:praw:It appears that you are using PRAW in an asynchronous environment.\n",
            "It is strongly recommended to use Async PRAW: https://asyncpraw.readthedocs.io.\n",
            "See https://praw.readthedocs.io/en/latest/getting_started/multiple_instances.html#discord-bots-and-asynchronous-environments for more info.\n",
            "\n"
          ]
        },
        {
          "output_type": "stream",
          "name": "stdout",
          "text": [
            "   Searching for: 'depressed'\n"
          ]
        },
        {
          "output_type": "stream",
          "name": "stderr",
          "text": [
            "WARNING:praw:It appears that you are using PRAW in an asynchronous environment.\n",
            "It is strongly recommended to use Async PRAW: https://asyncpraw.readthedocs.io.\n",
            "See https://praw.readthedocs.io/en/latest/getting_started/multiple_instances.html#discord-bots-and-asynchronous-environments for more info.\n",
            "\n"
          ]
        },
        {
          "output_type": "stream",
          "name": "stdout",
          "text": [
            "   Searching for: 'self-harm'\n"
          ]
        },
        {
          "output_type": "stream",
          "name": "stderr",
          "text": [
            "WARNING:praw:It appears that you are using PRAW in an asynchronous environment.\n",
            "It is strongly recommended to use Async PRAW: https://asyncpraw.readthedocs.io.\n",
            "See https://praw.readthedocs.io/en/latest/getting_started/multiple_instances.html#discord-bots-and-asynchronous-environments for more info.\n",
            "\n"
          ]
        },
        {
          "output_type": "stream",
          "name": "stdout",
          "text": [
            "   Searching for: 'overwhelmed'\n"
          ]
        },
        {
          "output_type": "stream",
          "name": "stderr",
          "text": [
            "WARNING:praw:It appears that you are using PRAW in an asynchronous environment.\n",
            "It is strongly recommended to use Async PRAW: https://asyncpraw.readthedocs.io.\n",
            "See https://praw.readthedocs.io/en/latest/getting_started/multiple_instances.html#discord-bots-and-asynchronous-environments for more info.\n",
            "\n"
          ]
        },
        {
          "output_type": "stream",
          "name": "stdout",
          "text": [
            "   Searching for: 'panic attack'\n"
          ]
        },
        {
          "output_type": "stream",
          "name": "stderr",
          "text": [
            "WARNING:praw:It appears that you are using PRAW in an asynchronous environment.\n",
            "It is strongly recommended to use Async PRAW: https://asyncpraw.readthedocs.io.\n",
            "See https://praw.readthedocs.io/en/latest/getting_started/multiple_instances.html#discord-bots-and-asynchronous-environments for more info.\n",
            "\n"
          ]
        },
        {
          "output_type": "stream",
          "name": "stdout",
          "text": [
            "   Searching for: 'mental breakdown'\n"
          ]
        },
        {
          "output_type": "stream",
          "name": "stderr",
          "text": [
            "WARNING:praw:It appears that you are using PRAW in an asynchronous environment.\n",
            "It is strongly recommended to use Async PRAW: https://asyncpraw.readthedocs.io.\n",
            "See https://praw.readthedocs.io/en/latest/getting_started/multiple_instances.html#discord-bots-and-asynchronous-environments for more info.\n",
            "\n"
          ]
        },
        {
          "output_type": "stream",
          "name": "stdout",
          "text": [
            "   Searching for: 'hopeless'\n"
          ]
        },
        {
          "output_type": "stream",
          "name": "stderr",
          "text": [
            "WARNING:praw:It appears that you are using PRAW in an asynchronous environment.\n",
            "It is strongly recommended to use Async PRAW: https://asyncpraw.readthedocs.io.\n",
            "See https://praw.readthedocs.io/en/latest/getting_started/multiple_instances.html#discord-bots-and-asynchronous-environments for more info.\n",
            "\n"
          ]
        },
        {
          "output_type": "stream",
          "name": "stdout",
          "text": [
            "   Searching for: 'addiction'\n"
          ]
        },
        {
          "output_type": "stream",
          "name": "stderr",
          "text": [
            "WARNING:praw:It appears that you are using PRAW in an asynchronous environment.\n",
            "It is strongly recommended to use Async PRAW: https://asyncpraw.readthedocs.io.\n",
            "See https://praw.readthedocs.io/en/latest/getting_started/multiple_instances.html#discord-bots-and-asynchronous-environments for more info.\n",
            "\n"
          ]
        },
        {
          "output_type": "stream",
          "name": "stdout",
          "text": [
            "   Searching for: 'relapse'\n"
          ]
        },
        {
          "output_type": "stream",
          "name": "stderr",
          "text": [
            "WARNING:praw:It appears that you are using PRAW in an asynchronous environment.\n",
            "It is strongly recommended to use Async PRAW: https://asyncpraw.readthedocs.io.\n",
            "See https://praw.readthedocs.io/en/latest/getting_started/multiple_instances.html#discord-bots-and-asynchronous-environments for more info.\n",
            "\n"
          ]
        },
        {
          "output_type": "stream",
          "name": "stdout",
          "text": [
            "   Searching for: 'substance abuse'\n"
          ]
        },
        {
          "output_type": "stream",
          "name": "stderr",
          "text": [
            "WARNING:praw:It appears that you are using PRAW in an asynchronous environment.\n",
            "It is strongly recommended to use Async PRAW: https://asyncpraw.readthedocs.io.\n",
            "See https://praw.readthedocs.io/en/latest/getting_started/multiple_instances.html#discord-bots-and-asynchronous-environments for more info.\n",
            "\n"
          ]
        },
        {
          "output_type": "stream",
          "name": "stdout",
          "text": [
            "   Searching for: 'therapy'\n"
          ]
        },
        {
          "output_type": "stream",
          "name": "stderr",
          "text": [
            "WARNING:praw:It appears that you are using PRAW in an asynchronous environment.\n",
            "It is strongly recommended to use Async PRAW: https://asyncpraw.readthedocs.io.\n",
            "See https://praw.readthedocs.io/en/latest/getting_started/multiple_instances.html#discord-bots-and-asynchronous-environments for more info.\n",
            "\n"
          ]
        },
        {
          "output_type": "stream",
          "name": "stdout",
          "text": [
            "   Searching for: 'counseling'\n"
          ]
        },
        {
          "output_type": "stream",
          "name": "stderr",
          "text": [
            "WARNING:praw:It appears that you are using PRAW in an asynchronous environment.\n",
            "It is strongly recommended to use Async PRAW: https://asyncpraw.readthedocs.io.\n",
            "See https://praw.readthedocs.io/en/latest/getting_started/multiple_instances.html#discord-bots-and-asynchronous-environments for more info.\n",
            "\n"
          ]
        },
        {
          "output_type": "stream",
          "name": "stdout",
          "text": [
            "   Searching for: 'mental health crisis'\n"
          ]
        },
        {
          "output_type": "stream",
          "name": "stderr",
          "text": [
            "WARNING:praw:It appears that you are using PRAW in an asynchronous environment.\n",
            "It is strongly recommended to use Async PRAW: https://asyncpraw.readthedocs.io.\n",
            "See https://praw.readthedocs.io/en/latest/getting_started/multiple_instances.html#discord-bots-and-asynchronous-environments for more info.\n",
            "\n"
          ]
        },
        {
          "output_type": "stream",
          "name": "stdout",
          "text": [
            "   Searching for: 'lonely'\n"
          ]
        },
        {
          "output_type": "stream",
          "name": "stderr",
          "text": [
            "WARNING:praw:It appears that you are using PRAW in an asynchronous environment.\n",
            "It is strongly recommended to use Async PRAW: https://asyncpraw.readthedocs.io.\n",
            "See https://praw.readthedocs.io/en/latest/getting_started/multiple_instances.html#discord-bots-and-asynchronous-environments for more info.\n",
            "\n"
          ]
        },
        {
          "output_type": "stream",
          "name": "stdout",
          "text": [
            "   Searching for: 'isolated'\n"
          ]
        },
        {
          "output_type": "stream",
          "name": "stderr",
          "text": [
            "WARNING:praw:It appears that you are using PRAW in an asynchronous environment.\n",
            "It is strongly recommended to use Async PRAW: https://asyncpraw.readthedocs.io.\n",
            "See https://praw.readthedocs.io/en/latest/getting_started/multiple_instances.html#discord-bots-and-asynchronous-environments for more info.\n",
            "\n"
          ]
        },
        {
          "output_type": "stream",
          "name": "stdout",
          "text": [
            "   Searching for: 'want to die'\n"
          ]
        },
        {
          "output_type": "stream",
          "name": "stderr",
          "text": [
            "WARNING:praw:It appears that you are using PRAW in an asynchronous environment.\n",
            "It is strongly recommended to use Async PRAW: https://asyncpraw.readthedocs.io.\n",
            "See https://praw.readthedocs.io/en/latest/getting_started/multiple_instances.html#discord-bots-and-asynchronous-environments for more info.\n",
            "\n"
          ]
        },
        {
          "output_type": "stream",
          "name": "stdout",
          "text": [
            "\n",
            "🔍 Searching r/SuicideWatch...\n",
            "   Searching for: 'suicidal'\n"
          ]
        },
        {
          "output_type": "stream",
          "name": "stderr",
          "text": [
            "WARNING:praw:It appears that you are using PRAW in an asynchronous environment.\n",
            "It is strongly recommended to use Async PRAW: https://asyncpraw.readthedocs.io.\n",
            "See https://praw.readthedocs.io/en/latest/getting_started/multiple_instances.html#discord-bots-and-asynchronous-environments for more info.\n",
            "\n"
          ]
        },
        {
          "output_type": "stream",
          "name": "stdout",
          "text": [
            "   Searching for: 'depressed'\n"
          ]
        },
        {
          "output_type": "stream",
          "name": "stderr",
          "text": [
            "WARNING:praw:It appears that you are using PRAW in an asynchronous environment.\n",
            "It is strongly recommended to use Async PRAW: https://asyncpraw.readthedocs.io.\n",
            "See https://praw.readthedocs.io/en/latest/getting_started/multiple_instances.html#discord-bots-and-asynchronous-environments for more info.\n",
            "\n"
          ]
        },
        {
          "output_type": "stream",
          "name": "stdout",
          "text": [
            "   Searching for: 'self-harm'\n"
          ]
        },
        {
          "output_type": "stream",
          "name": "stderr",
          "text": [
            "WARNING:praw:It appears that you are using PRAW in an asynchronous environment.\n",
            "It is strongly recommended to use Async PRAW: https://asyncpraw.readthedocs.io.\n",
            "See https://praw.readthedocs.io/en/latest/getting_started/multiple_instances.html#discord-bots-and-asynchronous-environments for more info.\n",
            "\n"
          ]
        },
        {
          "output_type": "stream",
          "name": "stdout",
          "text": [
            "   Searching for: 'overwhelmed'\n"
          ]
        },
        {
          "output_type": "stream",
          "name": "stderr",
          "text": [
            "WARNING:praw:It appears that you are using PRAW in an asynchronous environment.\n",
            "It is strongly recommended to use Async PRAW: https://asyncpraw.readthedocs.io.\n",
            "See https://praw.readthedocs.io/en/latest/getting_started/multiple_instances.html#discord-bots-and-asynchronous-environments for more info.\n",
            "\n"
          ]
        },
        {
          "output_type": "stream",
          "name": "stdout",
          "text": [
            "   Searching for: 'panic attack'\n"
          ]
        },
        {
          "output_type": "stream",
          "name": "stderr",
          "text": [
            "WARNING:praw:It appears that you are using PRAW in an asynchronous environment.\n",
            "It is strongly recommended to use Async PRAW: https://asyncpraw.readthedocs.io.\n",
            "See https://praw.readthedocs.io/en/latest/getting_started/multiple_instances.html#discord-bots-and-asynchronous-environments for more info.\n",
            "\n"
          ]
        },
        {
          "output_type": "stream",
          "name": "stdout",
          "text": [
            "   Searching for: 'mental breakdown'\n"
          ]
        },
        {
          "output_type": "stream",
          "name": "stderr",
          "text": [
            "WARNING:praw:It appears that you are using PRAW in an asynchronous environment.\n",
            "It is strongly recommended to use Async PRAW: https://asyncpraw.readthedocs.io.\n",
            "See https://praw.readthedocs.io/en/latest/getting_started/multiple_instances.html#discord-bots-and-asynchronous-environments for more info.\n",
            "\n"
          ]
        },
        {
          "output_type": "stream",
          "name": "stdout",
          "text": [
            "   Searching for: 'hopeless'\n"
          ]
        },
        {
          "output_type": "stream",
          "name": "stderr",
          "text": [
            "WARNING:praw:It appears that you are using PRAW in an asynchronous environment.\n",
            "It is strongly recommended to use Async PRAW: https://asyncpraw.readthedocs.io.\n",
            "See https://praw.readthedocs.io/en/latest/getting_started/multiple_instances.html#discord-bots-and-asynchronous-environments for more info.\n",
            "\n"
          ]
        },
        {
          "output_type": "stream",
          "name": "stdout",
          "text": [
            "   Searching for: 'addiction'\n"
          ]
        },
        {
          "output_type": "stream",
          "name": "stderr",
          "text": [
            "WARNING:praw:It appears that you are using PRAW in an asynchronous environment.\n",
            "It is strongly recommended to use Async PRAW: https://asyncpraw.readthedocs.io.\n",
            "See https://praw.readthedocs.io/en/latest/getting_started/multiple_instances.html#discord-bots-and-asynchronous-environments for more info.\n",
            "\n"
          ]
        },
        {
          "output_type": "stream",
          "name": "stdout",
          "text": [
            "   Searching for: 'relapse'\n"
          ]
        },
        {
          "output_type": "stream",
          "name": "stderr",
          "text": [
            "WARNING:praw:It appears that you are using PRAW in an asynchronous environment.\n",
            "It is strongly recommended to use Async PRAW: https://asyncpraw.readthedocs.io.\n",
            "See https://praw.readthedocs.io/en/latest/getting_started/multiple_instances.html#discord-bots-and-asynchronous-environments for more info.\n",
            "\n"
          ]
        },
        {
          "output_type": "stream",
          "name": "stdout",
          "text": [
            "   Searching for: 'substance abuse'\n"
          ]
        },
        {
          "output_type": "stream",
          "name": "stderr",
          "text": [
            "WARNING:praw:It appears that you are using PRAW in an asynchronous environment.\n",
            "It is strongly recommended to use Async PRAW: https://asyncpraw.readthedocs.io.\n",
            "See https://praw.readthedocs.io/en/latest/getting_started/multiple_instances.html#discord-bots-and-asynchronous-environments for more info.\n",
            "\n"
          ]
        },
        {
          "output_type": "stream",
          "name": "stdout",
          "text": [
            "   Searching for: 'therapy'\n"
          ]
        },
        {
          "output_type": "stream",
          "name": "stderr",
          "text": [
            "WARNING:praw:It appears that you are using PRAW in an asynchronous environment.\n",
            "It is strongly recommended to use Async PRAW: https://asyncpraw.readthedocs.io.\n",
            "See https://praw.readthedocs.io/en/latest/getting_started/multiple_instances.html#discord-bots-and-asynchronous-environments for more info.\n",
            "\n"
          ]
        },
        {
          "output_type": "stream",
          "name": "stdout",
          "text": [
            "   Searching for: 'counseling'\n"
          ]
        },
        {
          "output_type": "stream",
          "name": "stderr",
          "text": [
            "WARNING:praw:It appears that you are using PRAW in an asynchronous environment.\n",
            "It is strongly recommended to use Async PRAW: https://asyncpraw.readthedocs.io.\n",
            "See https://praw.readthedocs.io/en/latest/getting_started/multiple_instances.html#discord-bots-and-asynchronous-environments for more info.\n",
            "\n"
          ]
        },
        {
          "output_type": "stream",
          "name": "stdout",
          "text": [
            "   Searching for: 'mental health crisis'\n"
          ]
        },
        {
          "output_type": "stream",
          "name": "stderr",
          "text": [
            "WARNING:praw:It appears that you are using PRAW in an asynchronous environment.\n",
            "It is strongly recommended to use Async PRAW: https://asyncpraw.readthedocs.io.\n",
            "See https://praw.readthedocs.io/en/latest/getting_started/multiple_instances.html#discord-bots-and-asynchronous-environments for more info.\n",
            "\n"
          ]
        },
        {
          "output_type": "stream",
          "name": "stdout",
          "text": [
            "   Searching for: 'lonely'\n"
          ]
        },
        {
          "output_type": "stream",
          "name": "stderr",
          "text": [
            "WARNING:praw:It appears that you are using PRAW in an asynchronous environment.\n",
            "It is strongly recommended to use Async PRAW: https://asyncpraw.readthedocs.io.\n",
            "See https://praw.readthedocs.io/en/latest/getting_started/multiple_instances.html#discord-bots-and-asynchronous-environments for more info.\n",
            "\n"
          ]
        },
        {
          "output_type": "stream",
          "name": "stdout",
          "text": [
            "   Searching for: 'isolated'\n"
          ]
        },
        {
          "output_type": "stream",
          "name": "stderr",
          "text": [
            "WARNING:praw:It appears that you are using PRAW in an asynchronous environment.\n",
            "It is strongly recommended to use Async PRAW: https://asyncpraw.readthedocs.io.\n",
            "See https://praw.readthedocs.io/en/latest/getting_started/multiple_instances.html#discord-bots-and-asynchronous-environments for more info.\n",
            "\n"
          ]
        },
        {
          "output_type": "stream",
          "name": "stdout",
          "text": [
            "   Searching for: 'want to die'\n"
          ]
        },
        {
          "output_type": "stream",
          "name": "stderr",
          "text": [
            "WARNING:praw:It appears that you are using PRAW in an asynchronous environment.\n",
            "It is strongly recommended to use Async PRAW: https://asyncpraw.readthedocs.io.\n",
            "See https://praw.readthedocs.io/en/latest/getting_started/multiple_instances.html#discord-bots-and-asynchronous-environments for more info.\n",
            "\n",
            "WARNING:praw:It appears that you are using PRAW in an asynchronous environment.\n",
            "It is strongly recommended to use Async PRAW: https://asyncpraw.readthedocs.io.\n",
            "See https://praw.readthedocs.io/en/latest/getting_started/multiple_instances.html#discord-bots-and-asynchronous-environments for more info.\n",
            "\n"
          ]
        },
        {
          "output_type": "stream",
          "name": "stdout",
          "text": [
            "\n",
            "🔍 Searching r/addiction...\n",
            "   Searching for: 'suicidal'\n",
            "   Searching for: 'depressed'\n"
          ]
        },
        {
          "output_type": "stream",
          "name": "stderr",
          "text": [
            "WARNING:praw:It appears that you are using PRAW in an asynchronous environment.\n",
            "It is strongly recommended to use Async PRAW: https://asyncpraw.readthedocs.io.\n",
            "See https://praw.readthedocs.io/en/latest/getting_started/multiple_instances.html#discord-bots-and-asynchronous-environments for more info.\n",
            "\n"
          ]
        },
        {
          "output_type": "stream",
          "name": "stdout",
          "text": [
            "   Searching for: 'self-harm'\n"
          ]
        },
        {
          "output_type": "stream",
          "name": "stderr",
          "text": [
            "WARNING:praw:It appears that you are using PRAW in an asynchronous environment.\n",
            "It is strongly recommended to use Async PRAW: https://asyncpraw.readthedocs.io.\n",
            "See https://praw.readthedocs.io/en/latest/getting_started/multiple_instances.html#discord-bots-and-asynchronous-environments for more info.\n",
            "\n",
            "WARNING:praw:It appears that you are using PRAW in an asynchronous environment.\n",
            "It is strongly recommended to use Async PRAW: https://asyncpraw.readthedocs.io.\n",
            "See https://praw.readthedocs.io/en/latest/getting_started/multiple_instances.html#discord-bots-and-asynchronous-environments for more info.\n",
            "\n"
          ]
        },
        {
          "output_type": "stream",
          "name": "stdout",
          "text": [
            "   Searching for: 'overwhelmed'\n",
            "   Searching for: 'panic attack'\n"
          ]
        },
        {
          "output_type": "stream",
          "name": "stderr",
          "text": [
            "WARNING:praw:It appears that you are using PRAW in an asynchronous environment.\n",
            "It is strongly recommended to use Async PRAW: https://asyncpraw.readthedocs.io.\n",
            "See https://praw.readthedocs.io/en/latest/getting_started/multiple_instances.html#discord-bots-and-asynchronous-environments for more info.\n",
            "\n",
            "WARNING:praw:It appears that you are using PRAW in an asynchronous environment.\n",
            "It is strongly recommended to use Async PRAW: https://asyncpraw.readthedocs.io.\n",
            "See https://praw.readthedocs.io/en/latest/getting_started/multiple_instances.html#discord-bots-and-asynchronous-environments for more info.\n",
            "\n"
          ]
        },
        {
          "output_type": "stream",
          "name": "stdout",
          "text": [
            "   Searching for: 'mental breakdown'\n",
            "   Searching for: 'hopeless'\n"
          ]
        },
        {
          "output_type": "stream",
          "name": "stderr",
          "text": [
            "WARNING:praw:It appears that you are using PRAW in an asynchronous environment.\n",
            "It is strongly recommended to use Async PRAW: https://asyncpraw.readthedocs.io.\n",
            "See https://praw.readthedocs.io/en/latest/getting_started/multiple_instances.html#discord-bots-and-asynchronous-environments for more info.\n",
            "\n"
          ]
        },
        {
          "output_type": "stream",
          "name": "stdout",
          "text": [
            "   Searching for: 'addiction'\n"
          ]
        },
        {
          "output_type": "stream",
          "name": "stderr",
          "text": [
            "WARNING:praw:It appears that you are using PRAW in an asynchronous environment.\n",
            "It is strongly recommended to use Async PRAW: https://asyncpraw.readthedocs.io.\n",
            "See https://praw.readthedocs.io/en/latest/getting_started/multiple_instances.html#discord-bots-and-asynchronous-environments for more info.\n",
            "\n",
            "WARNING:praw:It appears that you are using PRAW in an asynchronous environment.\n",
            "It is strongly recommended to use Async PRAW: https://asyncpraw.readthedocs.io.\n",
            "See https://praw.readthedocs.io/en/latest/getting_started/multiple_instances.html#discord-bots-and-asynchronous-environments for more info.\n",
            "\n"
          ]
        },
        {
          "output_type": "stream",
          "name": "stdout",
          "text": [
            "   Searching for: 'relapse'\n",
            "   Searching for: 'substance abuse'\n"
          ]
        },
        {
          "output_type": "stream",
          "name": "stderr",
          "text": [
            "WARNING:praw:It appears that you are using PRAW in an asynchronous environment.\n",
            "It is strongly recommended to use Async PRAW: https://asyncpraw.readthedocs.io.\n",
            "See https://praw.readthedocs.io/en/latest/getting_started/multiple_instances.html#discord-bots-and-asynchronous-environments for more info.\n",
            "\n"
          ]
        },
        {
          "output_type": "stream",
          "name": "stdout",
          "text": [
            "   Searching for: 'therapy'\n"
          ]
        },
        {
          "output_type": "stream",
          "name": "stderr",
          "text": [
            "WARNING:praw:It appears that you are using PRAW in an asynchronous environment.\n",
            "It is strongly recommended to use Async PRAW: https://asyncpraw.readthedocs.io.\n",
            "See https://praw.readthedocs.io/en/latest/getting_started/multiple_instances.html#discord-bots-and-asynchronous-environments for more info.\n",
            "\n",
            "WARNING:praw:It appears that you are using PRAW in an asynchronous environment.\n",
            "It is strongly recommended to use Async PRAW: https://asyncpraw.readthedocs.io.\n",
            "See https://praw.readthedocs.io/en/latest/getting_started/multiple_instances.html#discord-bots-and-asynchronous-environments for more info.\n",
            "\n"
          ]
        },
        {
          "output_type": "stream",
          "name": "stdout",
          "text": [
            "   Searching for: 'counseling'\n",
            "   Searching for: 'mental health crisis'\n"
          ]
        },
        {
          "output_type": "stream",
          "name": "stderr",
          "text": [
            "WARNING:praw:It appears that you are using PRAW in an asynchronous environment.\n",
            "It is strongly recommended to use Async PRAW: https://asyncpraw.readthedocs.io.\n",
            "See https://praw.readthedocs.io/en/latest/getting_started/multiple_instances.html#discord-bots-and-asynchronous-environments for more info.\n",
            "\n",
            "WARNING:praw:It appears that you are using PRAW in an asynchronous environment.\n",
            "It is strongly recommended to use Async PRAW: https://asyncpraw.readthedocs.io.\n",
            "See https://praw.readthedocs.io/en/latest/getting_started/multiple_instances.html#discord-bots-and-asynchronous-environments for more info.\n",
            "\n"
          ]
        },
        {
          "output_type": "stream",
          "name": "stdout",
          "text": [
            "   Searching for: 'lonely'\n",
            "   Searching for: 'isolated'\n"
          ]
        },
        {
          "output_type": "stream",
          "name": "stderr",
          "text": [
            "WARNING:praw:It appears that you are using PRAW in an asynchronous environment.\n",
            "It is strongly recommended to use Async PRAW: https://asyncpraw.readthedocs.io.\n",
            "See https://praw.readthedocs.io/en/latest/getting_started/multiple_instances.html#discord-bots-and-asynchronous-environments for more info.\n",
            "\n"
          ]
        },
        {
          "output_type": "stream",
          "name": "stdout",
          "text": [
            "   Searching for: 'want to die'\n"
          ]
        },
        {
          "output_type": "stream",
          "name": "stderr",
          "text": [
            "WARNING:praw:It appears that you are using PRAW in an asynchronous environment.\n",
            "It is strongly recommended to use Async PRAW: https://asyncpraw.readthedocs.io.\n",
            "See https://praw.readthedocs.io/en/latest/getting_started/multiple_instances.html#discord-bots-and-asynchronous-environments for more info.\n",
            "\n"
          ]
        },
        {
          "output_type": "stream",
          "name": "stdout",
          "text": [
            "\n",
            "🔍 Searching r/anxiety...\n",
            "   Searching for: 'suicidal'\n"
          ]
        },
        {
          "output_type": "stream",
          "name": "stderr",
          "text": [
            "WARNING:praw:It appears that you are using PRAW in an asynchronous environment.\n",
            "It is strongly recommended to use Async PRAW: https://asyncpraw.readthedocs.io.\n",
            "See https://praw.readthedocs.io/en/latest/getting_started/multiple_instances.html#discord-bots-and-asynchronous-environments for more info.\n",
            "\n"
          ]
        },
        {
          "output_type": "stream",
          "name": "stdout",
          "text": [
            "   Searching for: 'depressed'\n"
          ]
        },
        {
          "output_type": "stream",
          "name": "stderr",
          "text": [
            "WARNING:praw:It appears that you are using PRAW in an asynchronous environment.\n",
            "It is strongly recommended to use Async PRAW: https://asyncpraw.readthedocs.io.\n",
            "See https://praw.readthedocs.io/en/latest/getting_started/multiple_instances.html#discord-bots-and-asynchronous-environments for more info.\n",
            "\n"
          ]
        },
        {
          "output_type": "stream",
          "name": "stdout",
          "text": [
            "   Searching for: 'self-harm'\n"
          ]
        },
        {
          "output_type": "stream",
          "name": "stderr",
          "text": [
            "WARNING:praw:It appears that you are using PRAW in an asynchronous environment.\n",
            "It is strongly recommended to use Async PRAW: https://asyncpraw.readthedocs.io.\n",
            "See https://praw.readthedocs.io/en/latest/getting_started/multiple_instances.html#discord-bots-and-asynchronous-environments for more info.\n",
            "\n"
          ]
        },
        {
          "output_type": "stream",
          "name": "stdout",
          "text": [
            "   Searching for: 'overwhelmed'\n"
          ]
        },
        {
          "output_type": "stream",
          "name": "stderr",
          "text": [
            "WARNING:praw:It appears that you are using PRAW in an asynchronous environment.\n",
            "It is strongly recommended to use Async PRAW: https://asyncpraw.readthedocs.io.\n",
            "See https://praw.readthedocs.io/en/latest/getting_started/multiple_instances.html#discord-bots-and-asynchronous-environments for more info.\n",
            "\n"
          ]
        },
        {
          "output_type": "stream",
          "name": "stdout",
          "text": [
            "   Searching for: 'panic attack'\n"
          ]
        },
        {
          "output_type": "stream",
          "name": "stderr",
          "text": [
            "WARNING:praw:It appears that you are using PRAW in an asynchronous environment.\n",
            "It is strongly recommended to use Async PRAW: https://asyncpraw.readthedocs.io.\n",
            "See https://praw.readthedocs.io/en/latest/getting_started/multiple_instances.html#discord-bots-and-asynchronous-environments for more info.\n",
            "\n"
          ]
        },
        {
          "output_type": "stream",
          "name": "stdout",
          "text": [
            "   Searching for: 'mental breakdown'\n"
          ]
        },
        {
          "output_type": "stream",
          "name": "stderr",
          "text": [
            "WARNING:praw:It appears that you are using PRAW in an asynchronous environment.\n",
            "It is strongly recommended to use Async PRAW: https://asyncpraw.readthedocs.io.\n",
            "See https://praw.readthedocs.io/en/latest/getting_started/multiple_instances.html#discord-bots-and-asynchronous-environments for more info.\n",
            "\n"
          ]
        },
        {
          "output_type": "stream",
          "name": "stdout",
          "text": [
            "   Searching for: 'hopeless'\n"
          ]
        },
        {
          "output_type": "stream",
          "name": "stderr",
          "text": [
            "WARNING:praw:It appears that you are using PRAW in an asynchronous environment.\n",
            "It is strongly recommended to use Async PRAW: https://asyncpraw.readthedocs.io.\n",
            "See https://praw.readthedocs.io/en/latest/getting_started/multiple_instances.html#discord-bots-and-asynchronous-environments for more info.\n",
            "\n"
          ]
        },
        {
          "output_type": "stream",
          "name": "stdout",
          "text": [
            "   Searching for: 'addiction'\n"
          ]
        },
        {
          "output_type": "stream",
          "name": "stderr",
          "text": [
            "WARNING:praw:It appears that you are using PRAW in an asynchronous environment.\n",
            "It is strongly recommended to use Async PRAW: https://asyncpraw.readthedocs.io.\n",
            "See https://praw.readthedocs.io/en/latest/getting_started/multiple_instances.html#discord-bots-and-asynchronous-environments for more info.\n",
            "\n"
          ]
        },
        {
          "output_type": "stream",
          "name": "stdout",
          "text": [
            "   Searching for: 'relapse'\n"
          ]
        },
        {
          "output_type": "stream",
          "name": "stderr",
          "text": [
            "WARNING:praw:It appears that you are using PRAW in an asynchronous environment.\n",
            "It is strongly recommended to use Async PRAW: https://asyncpraw.readthedocs.io.\n",
            "See https://praw.readthedocs.io/en/latest/getting_started/multiple_instances.html#discord-bots-and-asynchronous-environments for more info.\n",
            "\n"
          ]
        },
        {
          "output_type": "stream",
          "name": "stdout",
          "text": [
            "   Searching for: 'substance abuse'\n"
          ]
        },
        {
          "output_type": "stream",
          "name": "stderr",
          "text": [
            "WARNING:praw:It appears that you are using PRAW in an asynchronous environment.\n",
            "It is strongly recommended to use Async PRAW: https://asyncpraw.readthedocs.io.\n",
            "See https://praw.readthedocs.io/en/latest/getting_started/multiple_instances.html#discord-bots-and-asynchronous-environments for more info.\n",
            "\n"
          ]
        },
        {
          "output_type": "stream",
          "name": "stdout",
          "text": [
            "   Searching for: 'therapy'\n"
          ]
        },
        {
          "output_type": "stream",
          "name": "stderr",
          "text": [
            "WARNING:praw:It appears that you are using PRAW in an asynchronous environment.\n",
            "It is strongly recommended to use Async PRAW: https://asyncpraw.readthedocs.io.\n",
            "See https://praw.readthedocs.io/en/latest/getting_started/multiple_instances.html#discord-bots-and-asynchronous-environments for more info.\n",
            "\n"
          ]
        },
        {
          "output_type": "stream",
          "name": "stdout",
          "text": [
            "   Searching for: 'counseling'\n"
          ]
        },
        {
          "output_type": "stream",
          "name": "stderr",
          "text": [
            "WARNING:praw:It appears that you are using PRAW in an asynchronous environment.\n",
            "It is strongly recommended to use Async PRAW: https://asyncpraw.readthedocs.io.\n",
            "See https://praw.readthedocs.io/en/latest/getting_started/multiple_instances.html#discord-bots-and-asynchronous-environments for more info.\n",
            "\n"
          ]
        },
        {
          "output_type": "stream",
          "name": "stdout",
          "text": [
            "   Searching for: 'mental health crisis'\n"
          ]
        },
        {
          "output_type": "stream",
          "name": "stderr",
          "text": [
            "WARNING:praw:It appears that you are using PRAW in an asynchronous environment.\n",
            "It is strongly recommended to use Async PRAW: https://asyncpraw.readthedocs.io.\n",
            "See https://praw.readthedocs.io/en/latest/getting_started/multiple_instances.html#discord-bots-and-asynchronous-environments for more info.\n",
            "\n"
          ]
        },
        {
          "output_type": "stream",
          "name": "stdout",
          "text": [
            "   Searching for: 'lonely'\n"
          ]
        },
        {
          "output_type": "stream",
          "name": "stderr",
          "text": [
            "WARNING:praw:It appears that you are using PRAW in an asynchronous environment.\n",
            "It is strongly recommended to use Async PRAW: https://asyncpraw.readthedocs.io.\n",
            "See https://praw.readthedocs.io/en/latest/getting_started/multiple_instances.html#discord-bots-and-asynchronous-environments for more info.\n",
            "\n"
          ]
        },
        {
          "output_type": "stream",
          "name": "stdout",
          "text": [
            "   Searching for: 'isolated'\n"
          ]
        },
        {
          "output_type": "stream",
          "name": "stderr",
          "text": [
            "WARNING:praw:It appears that you are using PRAW in an asynchronous environment.\n",
            "It is strongly recommended to use Async PRAW: https://asyncpraw.readthedocs.io.\n",
            "See https://praw.readthedocs.io/en/latest/getting_started/multiple_instances.html#discord-bots-and-asynchronous-environments for more info.\n",
            "\n"
          ]
        },
        {
          "output_type": "stream",
          "name": "stdout",
          "text": [
            "   Searching for: 'want to die'\n",
            "\n",
            " Successfully extracted 1535 posts\n",
            "\n",
            " Cleaning data...\n",
            "\n",
            " Saving results...\n",
            " Data saved to /content/drive/MyDrive/Reddit_Mental-Health_Data/reddit_raw_data.csv\n",
            " Data saved to /content/drive/MyDrive/Reddit_Mental-Health_Data/reddit_cleaned_data.csv\n",
            "\n",
            " Sample of cleaned data:\n"
          ]
        },
        {
          "output_type": "display_data",
          "data": {
            "text/plain": [
              "   post_id            timestamp   subreddit   keyword  upvotes  comments  \\\n",
              "0   own79d  2021-08-02T20:33:09  depression  suicidal      302         2   \n",
              "1  1jd1y5e  2025-03-17T02:02:28  depression  suicidal      654       118   \n",
              "2  1ju1k9e  2025-04-08T01:09:50  depression  suicidal     1044        65   \n",
              "\n",
              "                                                 url  \\\n",
              "0  https://reddit.com/r/u_RedditCareResources/com...   \n",
              "1  https://reddit.com/r/depression/comments/1jd1y...   \n",
              "2  https://reddit.com/r/depression/comments/1ju1k...   \n",
              "\n",
              "                                     cleaned_content  \\\n",
              "0  youd like talk someone confidential mental hea...   \n",
              "1  im half asian household mother chinese dad whi...   \n",
              "2  unhappy life abusive father sadly couldnt anyt...   \n",
              "\n",
              "               cleaned_title  \n",
              "0         get support people  \n",
              "1    mom told commit suicide  \n",
              "2  girlfriend suicided today  "
            ],
            "text/html": [
              "\n",
              "  <div id=\"df-cab4497b-9066-4c28-b59a-a024f2408426\" class=\"colab-df-container\">\n",
              "    <div>\n",
              "<style scoped>\n",
              "    .dataframe tbody tr th:only-of-type {\n",
              "        vertical-align: middle;\n",
              "    }\n",
              "\n",
              "    .dataframe tbody tr th {\n",
              "        vertical-align: top;\n",
              "    }\n",
              "\n",
              "    .dataframe thead th {\n",
              "        text-align: right;\n",
              "    }\n",
              "</style>\n",
              "<table border=\"1\" class=\"dataframe\">\n",
              "  <thead>\n",
              "    <tr style=\"text-align: right;\">\n",
              "      <th></th>\n",
              "      <th>post_id</th>\n",
              "      <th>timestamp</th>\n",
              "      <th>subreddit</th>\n",
              "      <th>keyword</th>\n",
              "      <th>upvotes</th>\n",
              "      <th>comments</th>\n",
              "      <th>url</th>\n",
              "      <th>cleaned_content</th>\n",
              "      <th>cleaned_title</th>\n",
              "    </tr>\n",
              "  </thead>\n",
              "  <tbody>\n",
              "    <tr>\n",
              "      <th>0</th>\n",
              "      <td>own79d</td>\n",
              "      <td>2021-08-02T20:33:09</td>\n",
              "      <td>depression</td>\n",
              "      <td>suicidal</td>\n",
              "      <td>302</td>\n",
              "      <td>2</td>\n",
              "      <td>https://reddit.com/r/u_RedditCareResources/com...</td>\n",
              "      <td>youd like talk someone confidential mental hea...</td>\n",
              "      <td>get support people</td>\n",
              "    </tr>\n",
              "    <tr>\n",
              "      <th>1</th>\n",
              "      <td>1jd1y5e</td>\n",
              "      <td>2025-03-17T02:02:28</td>\n",
              "      <td>depression</td>\n",
              "      <td>suicidal</td>\n",
              "      <td>654</td>\n",
              "      <td>118</td>\n",
              "      <td>https://reddit.com/r/depression/comments/1jd1y...</td>\n",
              "      <td>im half asian household mother chinese dad whi...</td>\n",
              "      <td>mom told commit suicide</td>\n",
              "    </tr>\n",
              "    <tr>\n",
              "      <th>2</th>\n",
              "      <td>1ju1k9e</td>\n",
              "      <td>2025-04-08T01:09:50</td>\n",
              "      <td>depression</td>\n",
              "      <td>suicidal</td>\n",
              "      <td>1044</td>\n",
              "      <td>65</td>\n",
              "      <td>https://reddit.com/r/depression/comments/1ju1k...</td>\n",
              "      <td>unhappy life abusive father sadly couldnt anyt...</td>\n",
              "      <td>girlfriend suicided today</td>\n",
              "    </tr>\n",
              "  </tbody>\n",
              "</table>\n",
              "</div>\n",
              "    <div class=\"colab-df-buttons\">\n",
              "\n",
              "  <div class=\"colab-df-container\">\n",
              "    <button class=\"colab-df-convert\" onclick=\"convertToInteractive('df-cab4497b-9066-4c28-b59a-a024f2408426')\"\n",
              "            title=\"Convert this dataframe to an interactive table.\"\n",
              "            style=\"display:none;\">\n",
              "\n",
              "  <svg xmlns=\"http://www.w3.org/2000/svg\" height=\"24px\" viewBox=\"0 -960 960 960\">\n",
              "    <path d=\"M120-120v-720h720v720H120Zm60-500h600v-160H180v160Zm220 220h160v-160H400v160Zm0 220h160v-160H400v160ZM180-400h160v-160H180v160Zm440 0h160v-160H620v160ZM180-180h160v-160H180v160Zm440 0h160v-160H620v160Z\"/>\n",
              "  </svg>\n",
              "    </button>\n",
              "\n",
              "  <style>\n",
              "    .colab-df-container {\n",
              "      display:flex;\n",
              "      gap: 12px;\n",
              "    }\n",
              "\n",
              "    .colab-df-convert {\n",
              "      background-color: #E8F0FE;\n",
              "      border: none;\n",
              "      border-radius: 50%;\n",
              "      cursor: pointer;\n",
              "      display: none;\n",
              "      fill: #1967D2;\n",
              "      height: 32px;\n",
              "      padding: 0 0 0 0;\n",
              "      width: 32px;\n",
              "    }\n",
              "\n",
              "    .colab-df-convert:hover {\n",
              "      background-color: #E2EBFA;\n",
              "      box-shadow: 0px 1px 2px rgba(60, 64, 67, 0.3), 0px 1px 3px 1px rgba(60, 64, 67, 0.15);\n",
              "      fill: #174EA6;\n",
              "    }\n",
              "\n",
              "    .colab-df-buttons div {\n",
              "      margin-bottom: 4px;\n",
              "    }\n",
              "\n",
              "    [theme=dark] .colab-df-convert {\n",
              "      background-color: #3B4455;\n",
              "      fill: #D2E3FC;\n",
              "    }\n",
              "\n",
              "    [theme=dark] .colab-df-convert:hover {\n",
              "      background-color: #434B5C;\n",
              "      box-shadow: 0px 1px 3px 1px rgba(0, 0, 0, 0.15);\n",
              "      filter: drop-shadow(0px 1px 2px rgba(0, 0, 0, 0.3));\n",
              "      fill: #FFFFFF;\n",
              "    }\n",
              "  </style>\n",
              "\n",
              "    <script>\n",
              "      const buttonEl =\n",
              "        document.querySelector('#df-cab4497b-9066-4c28-b59a-a024f2408426 button.colab-df-convert');\n",
              "      buttonEl.style.display =\n",
              "        google.colab.kernel.accessAllowed ? 'block' : 'none';\n",
              "\n",
              "      async function convertToInteractive(key) {\n",
              "        const element = document.querySelector('#df-cab4497b-9066-4c28-b59a-a024f2408426');\n",
              "        const dataTable =\n",
              "          await google.colab.kernel.invokeFunction('convertToInteractive',\n",
              "                                                    [key], {});\n",
              "        if (!dataTable) return;\n",
              "\n",
              "        const docLinkHtml = 'Like what you see? Visit the ' +\n",
              "          '<a target=\"_blank\" href=https://colab.research.google.com/notebooks/data_table.ipynb>data table notebook</a>'\n",
              "          + ' to learn more about interactive tables.';\n",
              "        element.innerHTML = '';\n",
              "        dataTable['output_type'] = 'display_data';\n",
              "        await google.colab.output.renderOutput(dataTable, element);\n",
              "        const docLink = document.createElement('div');\n",
              "        docLink.innerHTML = docLinkHtml;\n",
              "        element.appendChild(docLink);\n",
              "      }\n",
              "    </script>\n",
              "  </div>\n",
              "\n",
              "\n",
              "<div id=\"df-1a4b5b8c-6beb-4ecb-90e1-30dd6dd6299b\">\n",
              "  <button class=\"colab-df-quickchart\" onclick=\"quickchart('df-1a4b5b8c-6beb-4ecb-90e1-30dd6dd6299b')\"\n",
              "            title=\"Suggest charts\"\n",
              "            style=\"display:none;\">\n",
              "\n",
              "<svg xmlns=\"http://www.w3.org/2000/svg\" height=\"24px\"viewBox=\"0 0 24 24\"\n",
              "     width=\"24px\">\n",
              "    <g>\n",
              "        <path d=\"M19 3H5c-1.1 0-2 .9-2 2v14c0 1.1.9 2 2 2h14c1.1 0 2-.9 2-2V5c0-1.1-.9-2-2-2zM9 17H7v-7h2v7zm4 0h-2V7h2v10zm4 0h-2v-4h2v4z\"/>\n",
              "    </g>\n",
              "</svg>\n",
              "  </button>\n",
              "\n",
              "<style>\n",
              "  .colab-df-quickchart {\n",
              "      --bg-color: #E8F0FE;\n",
              "      --fill-color: #1967D2;\n",
              "      --hover-bg-color: #E2EBFA;\n",
              "      --hover-fill-color: #174EA6;\n",
              "      --disabled-fill-color: #AAA;\n",
              "      --disabled-bg-color: #DDD;\n",
              "  }\n",
              "\n",
              "  [theme=dark] .colab-df-quickchart {\n",
              "      --bg-color: #3B4455;\n",
              "      --fill-color: #D2E3FC;\n",
              "      --hover-bg-color: #434B5C;\n",
              "      --hover-fill-color: #FFFFFF;\n",
              "      --disabled-bg-color: #3B4455;\n",
              "      --disabled-fill-color: #666;\n",
              "  }\n",
              "\n",
              "  .colab-df-quickchart {\n",
              "    background-color: var(--bg-color);\n",
              "    border: none;\n",
              "    border-radius: 50%;\n",
              "    cursor: pointer;\n",
              "    display: none;\n",
              "    fill: var(--fill-color);\n",
              "    height: 32px;\n",
              "    padding: 0;\n",
              "    width: 32px;\n",
              "  }\n",
              "\n",
              "  .colab-df-quickchart:hover {\n",
              "    background-color: var(--hover-bg-color);\n",
              "    box-shadow: 0 1px 2px rgba(60, 64, 67, 0.3), 0 1px 3px 1px rgba(60, 64, 67, 0.15);\n",
              "    fill: var(--button-hover-fill-color);\n",
              "  }\n",
              "\n",
              "  .colab-df-quickchart-complete:disabled,\n",
              "  .colab-df-quickchart-complete:disabled:hover {\n",
              "    background-color: var(--disabled-bg-color);\n",
              "    fill: var(--disabled-fill-color);\n",
              "    box-shadow: none;\n",
              "  }\n",
              "\n",
              "  .colab-df-spinner {\n",
              "    border: 2px solid var(--fill-color);\n",
              "    border-color: transparent;\n",
              "    border-bottom-color: var(--fill-color);\n",
              "    animation:\n",
              "      spin 1s steps(1) infinite;\n",
              "  }\n",
              "\n",
              "  @keyframes spin {\n",
              "    0% {\n",
              "      border-color: transparent;\n",
              "      border-bottom-color: var(--fill-color);\n",
              "      border-left-color: var(--fill-color);\n",
              "    }\n",
              "    20% {\n",
              "      border-color: transparent;\n",
              "      border-left-color: var(--fill-color);\n",
              "      border-top-color: var(--fill-color);\n",
              "    }\n",
              "    30% {\n",
              "      border-color: transparent;\n",
              "      border-left-color: var(--fill-color);\n",
              "      border-top-color: var(--fill-color);\n",
              "      border-right-color: var(--fill-color);\n",
              "    }\n",
              "    40% {\n",
              "      border-color: transparent;\n",
              "      border-right-color: var(--fill-color);\n",
              "      border-top-color: var(--fill-color);\n",
              "    }\n",
              "    60% {\n",
              "      border-color: transparent;\n",
              "      border-right-color: var(--fill-color);\n",
              "    }\n",
              "    80% {\n",
              "      border-color: transparent;\n",
              "      border-right-color: var(--fill-color);\n",
              "      border-bottom-color: var(--fill-color);\n",
              "    }\n",
              "    90% {\n",
              "      border-color: transparent;\n",
              "      border-bottom-color: var(--fill-color);\n",
              "    }\n",
              "  }\n",
              "</style>\n",
              "\n",
              "  <script>\n",
              "    async function quickchart(key) {\n",
              "      const quickchartButtonEl =\n",
              "        document.querySelector('#' + key + ' button');\n",
              "      quickchartButtonEl.disabled = true;  // To prevent multiple clicks.\n",
              "      quickchartButtonEl.classList.add('colab-df-spinner');\n",
              "      try {\n",
              "        const charts = await google.colab.kernel.invokeFunction(\n",
              "            'suggestCharts', [key], {});\n",
              "      } catch (error) {\n",
              "        console.error('Error during call to suggestCharts:', error);\n",
              "      }\n",
              "      quickchartButtonEl.classList.remove('colab-df-spinner');\n",
              "      quickchartButtonEl.classList.add('colab-df-quickchart-complete');\n",
              "    }\n",
              "    (() => {\n",
              "      let quickchartButtonEl =\n",
              "        document.querySelector('#df-1a4b5b8c-6beb-4ecb-90e1-30dd6dd6299b button');\n",
              "      quickchartButtonEl.style.display =\n",
              "        google.colab.kernel.accessAllowed ? 'block' : 'none';\n",
              "    })();\n",
              "  </script>\n",
              "</div>\n",
              "\n",
              "    </div>\n",
              "  </div>\n"
            ],
            "application/vnd.google.colaboratory.intrinsic+json": {
              "type": "dataframe",
              "summary": "{\n  \"name\": \"    main()\",\n  \"rows\": 3,\n  \"fields\": [\n    {\n      \"column\": \"post_id\",\n      \"properties\": {\n        \"dtype\": \"string\",\n        \"num_unique_values\": 3,\n        \"samples\": [\n          \"own79d\",\n          \"1jd1y5e\",\n          \"1ju1k9e\"\n        ],\n        \"semantic_type\": \"\",\n        \"description\": \"\"\n      }\n    },\n    {\n      \"column\": \"timestamp\",\n      \"properties\": {\n        \"dtype\": \"object\",\n        \"num_unique_values\": 3,\n        \"samples\": [\n          \"2021-08-02T20:33:09\",\n          \"2025-03-17T02:02:28\",\n          \"2025-04-08T01:09:50\"\n        ],\n        \"semantic_type\": \"\",\n        \"description\": \"\"\n      }\n    },\n    {\n      \"column\": \"subreddit\",\n      \"properties\": {\n        \"dtype\": \"category\",\n        \"num_unique_values\": 1,\n        \"samples\": [\n          \"depression\"\n        ],\n        \"semantic_type\": \"\",\n        \"description\": \"\"\n      }\n    },\n    {\n      \"column\": \"keyword\",\n      \"properties\": {\n        \"dtype\": \"category\",\n        \"num_unique_values\": 1,\n        \"samples\": [\n          \"suicidal\"\n        ],\n        \"semantic_type\": \"\",\n        \"description\": \"\"\n      }\n    },\n    {\n      \"column\": \"upvotes\",\n      \"properties\": {\n        \"dtype\": \"number\",\n        \"std\": 371,\n        \"min\": 302,\n        \"max\": 1044,\n        \"num_unique_values\": 3,\n        \"samples\": [\n          302\n        ],\n        \"semantic_type\": \"\",\n        \"description\": \"\"\n      }\n    },\n    {\n      \"column\": \"comments\",\n      \"properties\": {\n        \"dtype\": \"number\",\n        \"std\": 58,\n        \"min\": 2,\n        \"max\": 118,\n        \"num_unique_values\": 3,\n        \"samples\": [\n          2\n        ],\n        \"semantic_type\": \"\",\n        \"description\": \"\"\n      }\n    },\n    {\n      \"column\": \"url\",\n      \"properties\": {\n        \"dtype\": \"string\",\n        \"num_unique_values\": 3,\n        \"samples\": [\n          \"https://reddit.com/r/u_RedditCareResources/comments/own79d/get_support_for_yourself_or_other_people/\"\n        ],\n        \"semantic_type\": \"\",\n        \"description\": \"\"\n      }\n    },\n    {\n      \"column\": \"cleaned_content\",\n      \"properties\": {\n        \"dtype\": \"string\",\n        \"num_unique_values\": 3,\n        \"samples\": [\n          \"youd like talk someone confidential mental health support free available inside u crisis text line text chat suicide crisis lifeline call text youre outside u find resource location youre ready talk someone yet help youre feeling suicidal ask help youre thought suicide additional resource helping others help someone know who talking seriously hurting considering suicide information resource find help xb\"\n        ],\n        \"semantic_type\": \"\",\n        \"description\": \"\"\n      }\n    },\n    {\n      \"column\": \"cleaned_title\",\n      \"properties\": {\n        \"dtype\": \"string\",\n        \"num_unique_values\": 3,\n        \"samples\": [\n          \"get support people\"\n        ],\n        \"semantic_type\": \"\",\n        \"description\": \"\"\n      }\n    }\n  ]\n}"
            }
          },
          "metadata": {}
        },
        {
          "output_type": "stream",
          "name": "stdout",
          "text": [
            "\n",
            " Script completed\n"
          ]
        }
      ]
    },
    {
      "cell_type": "markdown",
      "source": [
        "## Task 2"
      ],
      "metadata": {
        "id": "rr2yb1zBLRxJ"
      }
    },
    {
      "cell_type": "code",
      "source": [
        "cleaned_df = pd.read_csv(\"/content/drive/MyDrive/Reddit_Mental-Health_Data/reddit_cleaned_data.csv\")\n",
        "cleaned_df"
      ],
      "metadata": {
        "colab": {
          "base_uri": "https://localhost:8080/",
          "height": 424
        },
        "id": "mZzYGCsuJXF1",
        "outputId": "2d381c2e-4455-41c1-df91-c72866e8878f"
      },
      "execution_count": 5,
      "outputs": [
        {
          "output_type": "execute_result",
          "data": {
            "text/plain": [
              "      post_id            timestamp   subreddit      keyword  upvotes  \\\n",
              "0      own79d  2021-08-02T20:33:09  depression     suicidal      302   \n",
              "1     1jd1y5e  2025-03-17T02:02:28  depression     suicidal      654   \n",
              "2     1ju1k9e  2025-04-08T01:09:50  depression     suicidal     1044   \n",
              "3     1jsen3q  2025-04-05T21:50:21  depression     suicidal      585   \n",
              "4     1j9j2ky  2025-03-12T12:37:36  depression     suicidal      573   \n",
              "...       ...                  ...         ...          ...      ...   \n",
              "1530  1j79igs  2025-03-09T15:05:44     anxiety  want to die        1   \n",
              "1531  1jb3x2n  2025-03-14T13:29:10     anxiety  want to die        8   \n",
              "1532  1ji0zg1  2025-03-23T14:50:53     anxiety  want to die        2   \n",
              "1533  1jeu1tj  2025-03-19T10:41:25     anxiety  want to die        2   \n",
              "1534  1jg95pp  2025-03-21T04:57:07     anxiety  want to die       24   \n",
              "\n",
              "      comments                                                url  \\\n",
              "0            2  https://reddit.com/r/u_RedditCareResources/com...   \n",
              "1          118  https://reddit.com/r/depression/comments/1jd1y...   \n",
              "2           65  https://reddit.com/r/depression/comments/1ju1k...   \n",
              "3           86  https://reddit.com/r/depression/comments/1jsen...   \n",
              "4           82  https://reddit.com/r/depression/comments/1j9j2...   \n",
              "...        ...                                                ...   \n",
              "1530        14  https://reddit.com/r/Anxiety/comments/1j79igs/...   \n",
              "1531        12  https://reddit.com/r/Anxiety/comments/1jb3x2n/...   \n",
              "1532        11  https://reddit.com/r/Anxiety/comments/1ji0zg1/...   \n",
              "1533        11  https://reddit.com/r/Anxiety/comments/1jeu1tj/...   \n",
              "1534         8  https://reddit.com/r/Anxiety/comments/1jg95pp/...   \n",
              "\n",
              "                                        cleaned_content  \\\n",
              "0     youd like talk someone confidential mental hea...   \n",
              "1     im half asian household mother chinese dad whi...   \n",
              "2     unhappy life abusive father sadly couldnt anyt...   \n",
              "3     died revived attempt forced psychiatric hospit...   \n",
              "4     im suicidal good life standard good life suppo...   \n",
              "...                                                 ...   \n",
              "1530  supposed anything accomplish anything live lif...   \n",
              "1531  struggling health anxiety since dad almost pas...   \n",
              "1532  anxiety check back worse ever constantly think...   \n",
              "1533  every time anxiety attack last week want die w...   \n",
              "1534  mom blood work done wbc thought maybe fluke go...   \n",
              "\n",
              "                                          cleaned_title  \n",
              "0                                    get support people  \n",
              "1                               mom told commit suicide  \n",
              "2                             girlfriend suicided today  \n",
              "3                      survived suicide still wish dead  \n",
              "4                 suicidal wouldnt mind waking tomorrow  \n",
              "...                                                 ...  \n",
              "1530                                        please help  \n",
              "1531  desperately need success story overcoming heal...  \n",
              "1532                             anxiety really bad atm  \n",
              "1533                     anxiety attack left death wish  \n",
              "1534                                     mom may cancer  \n",
              "\n",
              "[1535 rows x 9 columns]"
            ],
            "text/html": [
              "\n",
              "  <div id=\"df-48715171-9de6-4180-b6a9-38eb8e5dda9e\" class=\"colab-df-container\">\n",
              "    <div>\n",
              "<style scoped>\n",
              "    .dataframe tbody tr th:only-of-type {\n",
              "        vertical-align: middle;\n",
              "    }\n",
              "\n",
              "    .dataframe tbody tr th {\n",
              "        vertical-align: top;\n",
              "    }\n",
              "\n",
              "    .dataframe thead th {\n",
              "        text-align: right;\n",
              "    }\n",
              "</style>\n",
              "<table border=\"1\" class=\"dataframe\">\n",
              "  <thead>\n",
              "    <tr style=\"text-align: right;\">\n",
              "      <th></th>\n",
              "      <th>post_id</th>\n",
              "      <th>timestamp</th>\n",
              "      <th>subreddit</th>\n",
              "      <th>keyword</th>\n",
              "      <th>upvotes</th>\n",
              "      <th>comments</th>\n",
              "      <th>url</th>\n",
              "      <th>cleaned_content</th>\n",
              "      <th>cleaned_title</th>\n",
              "    </tr>\n",
              "  </thead>\n",
              "  <tbody>\n",
              "    <tr>\n",
              "      <th>0</th>\n",
              "      <td>own79d</td>\n",
              "      <td>2021-08-02T20:33:09</td>\n",
              "      <td>depression</td>\n",
              "      <td>suicidal</td>\n",
              "      <td>302</td>\n",
              "      <td>2</td>\n",
              "      <td>https://reddit.com/r/u_RedditCareResources/com...</td>\n",
              "      <td>youd like talk someone confidential mental hea...</td>\n",
              "      <td>get support people</td>\n",
              "    </tr>\n",
              "    <tr>\n",
              "      <th>1</th>\n",
              "      <td>1jd1y5e</td>\n",
              "      <td>2025-03-17T02:02:28</td>\n",
              "      <td>depression</td>\n",
              "      <td>suicidal</td>\n",
              "      <td>654</td>\n",
              "      <td>118</td>\n",
              "      <td>https://reddit.com/r/depression/comments/1jd1y...</td>\n",
              "      <td>im half asian household mother chinese dad whi...</td>\n",
              "      <td>mom told commit suicide</td>\n",
              "    </tr>\n",
              "    <tr>\n",
              "      <th>2</th>\n",
              "      <td>1ju1k9e</td>\n",
              "      <td>2025-04-08T01:09:50</td>\n",
              "      <td>depression</td>\n",
              "      <td>suicidal</td>\n",
              "      <td>1044</td>\n",
              "      <td>65</td>\n",
              "      <td>https://reddit.com/r/depression/comments/1ju1k...</td>\n",
              "      <td>unhappy life abusive father sadly couldnt anyt...</td>\n",
              "      <td>girlfriend suicided today</td>\n",
              "    </tr>\n",
              "    <tr>\n",
              "      <th>3</th>\n",
              "      <td>1jsen3q</td>\n",
              "      <td>2025-04-05T21:50:21</td>\n",
              "      <td>depression</td>\n",
              "      <td>suicidal</td>\n",
              "      <td>585</td>\n",
              "      <td>86</td>\n",
              "      <td>https://reddit.com/r/depression/comments/1jsen...</td>\n",
              "      <td>died revived attempt forced psychiatric hospit...</td>\n",
              "      <td>survived suicide still wish dead</td>\n",
              "    </tr>\n",
              "    <tr>\n",
              "      <th>4</th>\n",
              "      <td>1j9j2ky</td>\n",
              "      <td>2025-03-12T12:37:36</td>\n",
              "      <td>depression</td>\n",
              "      <td>suicidal</td>\n",
              "      <td>573</td>\n",
              "      <td>82</td>\n",
              "      <td>https://reddit.com/r/depression/comments/1j9j2...</td>\n",
              "      <td>im suicidal good life standard good life suppo...</td>\n",
              "      <td>suicidal wouldnt mind waking tomorrow</td>\n",
              "    </tr>\n",
              "    <tr>\n",
              "      <th>...</th>\n",
              "      <td>...</td>\n",
              "      <td>...</td>\n",
              "      <td>...</td>\n",
              "      <td>...</td>\n",
              "      <td>...</td>\n",
              "      <td>...</td>\n",
              "      <td>...</td>\n",
              "      <td>...</td>\n",
              "      <td>...</td>\n",
              "    </tr>\n",
              "    <tr>\n",
              "      <th>1530</th>\n",
              "      <td>1j79igs</td>\n",
              "      <td>2025-03-09T15:05:44</td>\n",
              "      <td>anxiety</td>\n",
              "      <td>want to die</td>\n",
              "      <td>1</td>\n",
              "      <td>14</td>\n",
              "      <td>https://reddit.com/r/Anxiety/comments/1j79igs/...</td>\n",
              "      <td>supposed anything accomplish anything live lif...</td>\n",
              "      <td>please help</td>\n",
              "    </tr>\n",
              "    <tr>\n",
              "      <th>1531</th>\n",
              "      <td>1jb3x2n</td>\n",
              "      <td>2025-03-14T13:29:10</td>\n",
              "      <td>anxiety</td>\n",
              "      <td>want to die</td>\n",
              "      <td>8</td>\n",
              "      <td>12</td>\n",
              "      <td>https://reddit.com/r/Anxiety/comments/1jb3x2n/...</td>\n",
              "      <td>struggling health anxiety since dad almost pas...</td>\n",
              "      <td>desperately need success story overcoming heal...</td>\n",
              "    </tr>\n",
              "    <tr>\n",
              "      <th>1532</th>\n",
              "      <td>1ji0zg1</td>\n",
              "      <td>2025-03-23T14:50:53</td>\n",
              "      <td>anxiety</td>\n",
              "      <td>want to die</td>\n",
              "      <td>2</td>\n",
              "      <td>11</td>\n",
              "      <td>https://reddit.com/r/Anxiety/comments/1ji0zg1/...</td>\n",
              "      <td>anxiety check back worse ever constantly think...</td>\n",
              "      <td>anxiety really bad atm</td>\n",
              "    </tr>\n",
              "    <tr>\n",
              "      <th>1533</th>\n",
              "      <td>1jeu1tj</td>\n",
              "      <td>2025-03-19T10:41:25</td>\n",
              "      <td>anxiety</td>\n",
              "      <td>want to die</td>\n",
              "      <td>2</td>\n",
              "      <td>11</td>\n",
              "      <td>https://reddit.com/r/Anxiety/comments/1jeu1tj/...</td>\n",
              "      <td>every time anxiety attack last week want die w...</td>\n",
              "      <td>anxiety attack left death wish</td>\n",
              "    </tr>\n",
              "    <tr>\n",
              "      <th>1534</th>\n",
              "      <td>1jg95pp</td>\n",
              "      <td>2025-03-21T04:57:07</td>\n",
              "      <td>anxiety</td>\n",
              "      <td>want to die</td>\n",
              "      <td>24</td>\n",
              "      <td>8</td>\n",
              "      <td>https://reddit.com/r/Anxiety/comments/1jg95pp/...</td>\n",
              "      <td>mom blood work done wbc thought maybe fluke go...</td>\n",
              "      <td>mom may cancer</td>\n",
              "    </tr>\n",
              "  </tbody>\n",
              "</table>\n",
              "<p>1535 rows × 9 columns</p>\n",
              "</div>\n",
              "    <div class=\"colab-df-buttons\">\n",
              "\n",
              "  <div class=\"colab-df-container\">\n",
              "    <button class=\"colab-df-convert\" onclick=\"convertToInteractive('df-48715171-9de6-4180-b6a9-38eb8e5dda9e')\"\n",
              "            title=\"Convert this dataframe to an interactive table.\"\n",
              "            style=\"display:none;\">\n",
              "\n",
              "  <svg xmlns=\"http://www.w3.org/2000/svg\" height=\"24px\" viewBox=\"0 -960 960 960\">\n",
              "    <path d=\"M120-120v-720h720v720H120Zm60-500h600v-160H180v160Zm220 220h160v-160H400v160Zm0 220h160v-160H400v160ZM180-400h160v-160H180v160Zm440 0h160v-160H620v160ZM180-180h160v-160H180v160Zm440 0h160v-160H620v160Z\"/>\n",
              "  </svg>\n",
              "    </button>\n",
              "\n",
              "  <style>\n",
              "    .colab-df-container {\n",
              "      display:flex;\n",
              "      gap: 12px;\n",
              "    }\n",
              "\n",
              "    .colab-df-convert {\n",
              "      background-color: #E8F0FE;\n",
              "      border: none;\n",
              "      border-radius: 50%;\n",
              "      cursor: pointer;\n",
              "      display: none;\n",
              "      fill: #1967D2;\n",
              "      height: 32px;\n",
              "      padding: 0 0 0 0;\n",
              "      width: 32px;\n",
              "    }\n",
              "\n",
              "    .colab-df-convert:hover {\n",
              "      background-color: #E2EBFA;\n",
              "      box-shadow: 0px 1px 2px rgba(60, 64, 67, 0.3), 0px 1px 3px 1px rgba(60, 64, 67, 0.15);\n",
              "      fill: #174EA6;\n",
              "    }\n",
              "\n",
              "    .colab-df-buttons div {\n",
              "      margin-bottom: 4px;\n",
              "    }\n",
              "\n",
              "    [theme=dark] .colab-df-convert {\n",
              "      background-color: #3B4455;\n",
              "      fill: #D2E3FC;\n",
              "    }\n",
              "\n",
              "    [theme=dark] .colab-df-convert:hover {\n",
              "      background-color: #434B5C;\n",
              "      box-shadow: 0px 1px 3px 1px rgba(0, 0, 0, 0.15);\n",
              "      filter: drop-shadow(0px 1px 2px rgba(0, 0, 0, 0.3));\n",
              "      fill: #FFFFFF;\n",
              "    }\n",
              "  </style>\n",
              "\n",
              "    <script>\n",
              "      const buttonEl =\n",
              "        document.querySelector('#df-48715171-9de6-4180-b6a9-38eb8e5dda9e button.colab-df-convert');\n",
              "      buttonEl.style.display =\n",
              "        google.colab.kernel.accessAllowed ? 'block' : 'none';\n",
              "\n",
              "      async function convertToInteractive(key) {\n",
              "        const element = document.querySelector('#df-48715171-9de6-4180-b6a9-38eb8e5dda9e');\n",
              "        const dataTable =\n",
              "          await google.colab.kernel.invokeFunction('convertToInteractive',\n",
              "                                                    [key], {});\n",
              "        if (!dataTable) return;\n",
              "\n",
              "        const docLinkHtml = 'Like what you see? Visit the ' +\n",
              "          '<a target=\"_blank\" href=https://colab.research.google.com/notebooks/data_table.ipynb>data table notebook</a>'\n",
              "          + ' to learn more about interactive tables.';\n",
              "        element.innerHTML = '';\n",
              "        dataTable['output_type'] = 'display_data';\n",
              "        await google.colab.output.renderOutput(dataTable, element);\n",
              "        const docLink = document.createElement('div');\n",
              "        docLink.innerHTML = docLinkHtml;\n",
              "        element.appendChild(docLink);\n",
              "      }\n",
              "    </script>\n",
              "  </div>\n",
              "\n",
              "\n",
              "<div id=\"df-a8a9c46c-013b-4966-8bf2-3531f68592ed\">\n",
              "  <button class=\"colab-df-quickchart\" onclick=\"quickchart('df-a8a9c46c-013b-4966-8bf2-3531f68592ed')\"\n",
              "            title=\"Suggest charts\"\n",
              "            style=\"display:none;\">\n",
              "\n",
              "<svg xmlns=\"http://www.w3.org/2000/svg\" height=\"24px\"viewBox=\"0 0 24 24\"\n",
              "     width=\"24px\">\n",
              "    <g>\n",
              "        <path d=\"M19 3H5c-1.1 0-2 .9-2 2v14c0 1.1.9 2 2 2h14c1.1 0 2-.9 2-2V5c0-1.1-.9-2-2-2zM9 17H7v-7h2v7zm4 0h-2V7h2v10zm4 0h-2v-4h2v4z\"/>\n",
              "    </g>\n",
              "</svg>\n",
              "  </button>\n",
              "\n",
              "<style>\n",
              "  .colab-df-quickchart {\n",
              "      --bg-color: #E8F0FE;\n",
              "      --fill-color: #1967D2;\n",
              "      --hover-bg-color: #E2EBFA;\n",
              "      --hover-fill-color: #174EA6;\n",
              "      --disabled-fill-color: #AAA;\n",
              "      --disabled-bg-color: #DDD;\n",
              "  }\n",
              "\n",
              "  [theme=dark] .colab-df-quickchart {\n",
              "      --bg-color: #3B4455;\n",
              "      --fill-color: #D2E3FC;\n",
              "      --hover-bg-color: #434B5C;\n",
              "      --hover-fill-color: #FFFFFF;\n",
              "      --disabled-bg-color: #3B4455;\n",
              "      --disabled-fill-color: #666;\n",
              "  }\n",
              "\n",
              "  .colab-df-quickchart {\n",
              "    background-color: var(--bg-color);\n",
              "    border: none;\n",
              "    border-radius: 50%;\n",
              "    cursor: pointer;\n",
              "    display: none;\n",
              "    fill: var(--fill-color);\n",
              "    height: 32px;\n",
              "    padding: 0;\n",
              "    width: 32px;\n",
              "  }\n",
              "\n",
              "  .colab-df-quickchart:hover {\n",
              "    background-color: var(--hover-bg-color);\n",
              "    box-shadow: 0 1px 2px rgba(60, 64, 67, 0.3), 0 1px 3px 1px rgba(60, 64, 67, 0.15);\n",
              "    fill: var(--button-hover-fill-color);\n",
              "  }\n",
              "\n",
              "  .colab-df-quickchart-complete:disabled,\n",
              "  .colab-df-quickchart-complete:disabled:hover {\n",
              "    background-color: var(--disabled-bg-color);\n",
              "    fill: var(--disabled-fill-color);\n",
              "    box-shadow: none;\n",
              "  }\n",
              "\n",
              "  .colab-df-spinner {\n",
              "    border: 2px solid var(--fill-color);\n",
              "    border-color: transparent;\n",
              "    border-bottom-color: var(--fill-color);\n",
              "    animation:\n",
              "      spin 1s steps(1) infinite;\n",
              "  }\n",
              "\n",
              "  @keyframes spin {\n",
              "    0% {\n",
              "      border-color: transparent;\n",
              "      border-bottom-color: var(--fill-color);\n",
              "      border-left-color: var(--fill-color);\n",
              "    }\n",
              "    20% {\n",
              "      border-color: transparent;\n",
              "      border-left-color: var(--fill-color);\n",
              "      border-top-color: var(--fill-color);\n",
              "    }\n",
              "    30% {\n",
              "      border-color: transparent;\n",
              "      border-left-color: var(--fill-color);\n",
              "      border-top-color: var(--fill-color);\n",
              "      border-right-color: var(--fill-color);\n",
              "    }\n",
              "    40% {\n",
              "      border-color: transparent;\n",
              "      border-right-color: var(--fill-color);\n",
              "      border-top-color: var(--fill-color);\n",
              "    }\n",
              "    60% {\n",
              "      border-color: transparent;\n",
              "      border-right-color: var(--fill-color);\n",
              "    }\n",
              "    80% {\n",
              "      border-color: transparent;\n",
              "      border-right-color: var(--fill-color);\n",
              "      border-bottom-color: var(--fill-color);\n",
              "    }\n",
              "    90% {\n",
              "      border-color: transparent;\n",
              "      border-bottom-color: var(--fill-color);\n",
              "    }\n",
              "  }\n",
              "</style>\n",
              "\n",
              "  <script>\n",
              "    async function quickchart(key) {\n",
              "      const quickchartButtonEl =\n",
              "        document.querySelector('#' + key + ' button');\n",
              "      quickchartButtonEl.disabled = true;  // To prevent multiple clicks.\n",
              "      quickchartButtonEl.classList.add('colab-df-spinner');\n",
              "      try {\n",
              "        const charts = await google.colab.kernel.invokeFunction(\n",
              "            'suggestCharts', [key], {});\n",
              "      } catch (error) {\n",
              "        console.error('Error during call to suggestCharts:', error);\n",
              "      }\n",
              "      quickchartButtonEl.classList.remove('colab-df-spinner');\n",
              "      quickchartButtonEl.classList.add('colab-df-quickchart-complete');\n",
              "    }\n",
              "    (() => {\n",
              "      let quickchartButtonEl =\n",
              "        document.querySelector('#df-a8a9c46c-013b-4966-8bf2-3531f68592ed button');\n",
              "      quickchartButtonEl.style.display =\n",
              "        google.colab.kernel.accessAllowed ? 'block' : 'none';\n",
              "    })();\n",
              "  </script>\n",
              "</div>\n",
              "\n",
              "  <div id=\"id_455e3e40-89f0-406f-a8cb-08fa44fdb16f\">\n",
              "    <style>\n",
              "      .colab-df-generate {\n",
              "        background-color: #E8F0FE;\n",
              "        border: none;\n",
              "        border-radius: 50%;\n",
              "        cursor: pointer;\n",
              "        display: none;\n",
              "        fill: #1967D2;\n",
              "        height: 32px;\n",
              "        padding: 0 0 0 0;\n",
              "        width: 32px;\n",
              "      }\n",
              "\n",
              "      .colab-df-generate:hover {\n",
              "        background-color: #E2EBFA;\n",
              "        box-shadow: 0px 1px 2px rgba(60, 64, 67, 0.3), 0px 1px 3px 1px rgba(60, 64, 67, 0.15);\n",
              "        fill: #174EA6;\n",
              "      }\n",
              "\n",
              "      [theme=dark] .colab-df-generate {\n",
              "        background-color: #3B4455;\n",
              "        fill: #D2E3FC;\n",
              "      }\n",
              "\n",
              "      [theme=dark] .colab-df-generate:hover {\n",
              "        background-color: #434B5C;\n",
              "        box-shadow: 0px 1px 3px 1px rgba(0, 0, 0, 0.15);\n",
              "        filter: drop-shadow(0px 1px 2px rgba(0, 0, 0, 0.3));\n",
              "        fill: #FFFFFF;\n",
              "      }\n",
              "    </style>\n",
              "    <button class=\"colab-df-generate\" onclick=\"generateWithVariable('cleaned_df')\"\n",
              "            title=\"Generate code using this dataframe.\"\n",
              "            style=\"display:none;\">\n",
              "\n",
              "  <svg xmlns=\"http://www.w3.org/2000/svg\" height=\"24px\"viewBox=\"0 0 24 24\"\n",
              "       width=\"24px\">\n",
              "    <path d=\"M7,19H8.4L18.45,9,17,7.55,7,17.6ZM5,21V16.75L18.45,3.32a2,2,0,0,1,2.83,0l1.4,1.43a1.91,1.91,0,0,1,.58,1.4,1.91,1.91,0,0,1-.58,1.4L9.25,21ZM18.45,9,17,7.55Zm-12,3A5.31,5.31,0,0,0,4.9,8.1,5.31,5.31,0,0,0,1,6.5,5.31,5.31,0,0,0,4.9,4.9,5.31,5.31,0,0,0,6.5,1,5.31,5.31,0,0,0,8.1,4.9,5.31,5.31,0,0,0,12,6.5,5.46,5.46,0,0,0,6.5,12Z\"/>\n",
              "  </svg>\n",
              "    </button>\n",
              "    <script>\n",
              "      (() => {\n",
              "      const buttonEl =\n",
              "        document.querySelector('#id_455e3e40-89f0-406f-a8cb-08fa44fdb16f button.colab-df-generate');\n",
              "      buttonEl.style.display =\n",
              "        google.colab.kernel.accessAllowed ? 'block' : 'none';\n",
              "\n",
              "      buttonEl.onclick = () => {\n",
              "        google.colab.notebook.generateWithVariable('cleaned_df');\n",
              "      }\n",
              "      })();\n",
              "    </script>\n",
              "  </div>\n",
              "\n",
              "    </div>\n",
              "  </div>\n"
            ],
            "application/vnd.google.colaboratory.intrinsic+json": {
              "type": "dataframe",
              "variable_name": "cleaned_df",
              "summary": "{\n  \"name\": \"cleaned_df\",\n  \"rows\": 1535,\n  \"fields\": [\n    {\n      \"column\": \"post_id\",\n      \"properties\": {\n        \"dtype\": \"string\",\n        \"num_unique_values\": 1394,\n        \"samples\": [\n          \"1je32ga\",\n          \"1joe28j\",\n          \"1jgxd90\"\n        ],\n        \"semantic_type\": \"\",\n        \"description\": \"\"\n      }\n    },\n    {\n      \"column\": \"timestamp\",\n      \"properties\": {\n        \"dtype\": \"object\",\n        \"num_unique_values\": 1394,\n        \"samples\": [\n          \"2025-03-18T11:48:24\",\n          \"2025-03-31T21:01:37\",\n          \"2025-03-22T01:37:42\"\n        ],\n        \"semantic_type\": \"\",\n        \"description\": \"\"\n      }\n    },\n    {\n      \"column\": \"subreddit\",\n      \"properties\": {\n        \"dtype\": \"category\",\n        \"num_unique_values\": 5,\n        \"samples\": [\n          \"mentalhealth\",\n          \"anxiety\",\n          \"SuicideWatch\"\n        ],\n        \"semantic_type\": \"\",\n        \"description\": \"\"\n      }\n    },\n    {\n      \"column\": \"keyword\",\n      \"properties\": {\n        \"dtype\": \"category\",\n        \"num_unique_values\": 16,\n        \"samples\": [\n          \"suicidal\",\n          \"depressed\",\n          \"mental breakdown\"\n        ],\n        \"semantic_type\": \"\",\n        \"description\": \"\"\n      }\n    },\n    {\n      \"column\": \"upvotes\",\n      \"properties\": {\n        \"dtype\": \"number\",\n        \"std\": 91,\n        \"min\": 0,\n        \"max\": 1548,\n        \"num_unique_values\": 163,\n        \"samples\": [\n          473,\n          148,\n          64\n        ],\n        \"semantic_type\": \"\",\n        \"description\": \"\"\n      }\n    },\n    {\n      \"column\": \"comments\",\n      \"properties\": {\n        \"dtype\": \"number\",\n        \"std\": 23,\n        \"min\": 0,\n        \"max\": 358,\n        \"num_unique_values\": 83,\n        \"samples\": [\n          38,\n          2,\n          9\n        ],\n        \"semantic_type\": \"\",\n        \"description\": \"\"\n      }\n    },\n    {\n      \"column\": \"url\",\n      \"properties\": {\n        \"dtype\": \"string\",\n        \"num_unique_values\": 1394,\n        \"samples\": [\n          \"https://reddit.com/r/depression/comments/1je32ga/i_realized_that_i_went_from_mid_to_ugly_after_i/\",\n          \"https://reddit.com/r/Anxiety/comments/1joe28j/im_out_of_depression_if_youre_in_it_now_youre_not/\",\n          \"https://reddit.com/r/SuicideWatch/comments/1jgxd90/my_own_people_make_fun_of_me/\"\n        ],\n        \"semantic_type\": \"\",\n        \"description\": \"\"\n      }\n    },\n    {\n      \"column\": \"cleaned_content\",\n      \"properties\": {\n        \"dtype\": \"string\",\n        \"num_unique_values\": 1370,\n        \"samples\": [\n          \"ive million gazillion thing wrong past month ive struggling one hardest part mental health intrusive thought im sure theyre normal normal intrusive thought constantly like time within minute really occur im public example someone talking ill keep getting urge sock right nose slap glass face another example would im public place ill urge start kicking breaking whatever im looking dont act upon dont think ever really act upon intrusive thought well intrusive cant get day theyre constant cant conversation someone without feeling urge hurt break something dont focus solely thing wont go away obviously know reddit isnt doctor im looking diagnosis anything sign something severe intrusive thought ocd worrying considering much happens per day\",\n          \"wake anxiety depression intrusive thought follow throughout day feeling fear apprehension hopelesness difficult get much anything done\",\n          \"sometimes get insanely strong urge complete alone far away everything else never talk anyone come go sometimes intense cannot ignore\"\n        ],\n        \"semantic_type\": \"\",\n        \"description\": \"\"\n      }\n    },\n    {\n      \"column\": \"cleaned_title\",\n      \"properties\": {\n        \"dtype\": \"string\",\n        \"num_unique_values\": 1287,\n        \"samples\": [\n          \"always look nervous scared\",\n          \"suicidal survived suicide attempt life turn afterward\",\n          \"im isolated cant much taking toll\"\n        ],\n        \"semantic_type\": \"\",\n        \"description\": \"\"\n      }\n    }\n  ]\n}"
            }
          },
          "metadata": {},
          "execution_count": 5
        }
      ]
    },
    {
      "cell_type": "code",
      "source": [
        "import pandas as pd\n",
        "from vaderSentiment.vaderSentiment import SentimentIntensityAnalyzer\n",
        "import matplotlib.pyplot as plt\n",
        "from gensim.models import Word2Vec\n",
        "from nltk.tokenize import word_tokenize\n",
        "import folium\n",
        "from folium.plugins import HeatMap\n",
        "import spacy"
      ],
      "metadata": {
        "id": "BlGBCpAcR8U0"
      },
      "execution_count": 6,
      "outputs": []
    },
    {
      "cell_type": "code",
      "source": [
        "nltk.download('punkt_tab')"
      ],
      "metadata": {
        "colab": {
          "base_uri": "https://localhost:8080/"
        },
        "id": "-G5NHIU4UYD_",
        "outputId": "a2a792c8-a1c0-4081-9e81-5ebc37ccff7c"
      },
      "execution_count": 7,
      "outputs": [
        {
          "output_type": "stream",
          "name": "stderr",
          "text": [
            "[nltk_data] Downloading package punkt_tab to /root/nltk_data...\n",
            "[nltk_data]   Unzipping tokenizers/punkt_tab.zip.\n"
          ]
        },
        {
          "output_type": "execute_result",
          "data": {
            "text/plain": [
              "True"
            ]
          },
          "metadata": {},
          "execution_count": 7
        }
      ]
    },
    {
      "cell_type": "code",
      "source": [
        "import pandas as pd\n",
        "from vaderSentiment.vaderSentiment import SentimentIntensityAnalyzer\n",
        "import matplotlib.pyplot as plt\n",
        "from gensim.models import Word2Vec\n",
        "from nltk.tokenize import word_tokenize\n",
        "import nltk\n",
        "import os\n",
        "from google.colab import drive\n",
        "\n",
        "# Mount Google Drive\n",
        "drive.mount('/content/drive')\n",
        "\n",
        "# Set paths\n",
        "base_dir = \"/content/drive/MyDrive/Reddit_Mental-Health_Data\"\n",
        "output_dir = os.path.join(base_dir, \"Analysis_Results\")\n",
        "os.makedirs(output_dir, exist_ok=True)\n",
        "\n",
        "# Load cleaned data\n",
        "cleaned_df = pd.read_csv(os.path.join(base_dir, \"reddit_cleaned_data.csv\"))\n",
        "print(\"Data Loaded Successfully\")\n",
        "\n",
        "# Tokenization\n",
        "nltk.download('punkt')\n",
        "cleaned_df[\"Tokens\"] = cleaned_df[\"cleaned_content\"].fillna(\"\").apply(word_tokenize)\n",
        "\n",
        "# Sentiment Analysis\n",
        "analyzer = SentimentIntensityAnalyzer()\n",
        "def get_sentiment(text):\n",
        "    if not isinstance(text, str):\n",
        "        text = \"\"\n",
        "    score = analyzer.polarity_scores(text)[\"compound\"]\n",
        "    if score > 0.05:\n",
        "        return \"Positive\"\n",
        "    elif score < -0.05:\n",
        "        return \"Negative\"\n",
        "    else:\n",
        "        return \"Neutral\"\n",
        "\n",
        "cleaned_df[\"Sentiment\"] = cleaned_df[\"cleaned_content\"].apply(get_sentiment)\n",
        "\n",
        "# Word2Vec Model Training\n",
        "w2v_model = Word2Vec(\n",
        "    sentences=cleaned_df[\"Tokens\"].tolist(),\n",
        "    vector_size=100,\n",
        "    window=5,\n",
        "    min_count=1,\n",
        "    workers=4\n",
        ")\n",
        "\n",
        "# Define Risk Terms\n",
        "HIGH_RISK_TERMS = [\"dont want to be here\", \"kill myself\", \"end it\", \"suicidal\",\n",
        "                  \"want to die\", \"no point living\", \"give up\"]\n",
        "MODERATE_RISK_TERMS = [\"help me\", \"feel lost\", \"struggling\", \"overwhelmed\",\n",
        "                      \"cant cope\", \"need support\", \"breaking down\"]\n",
        "LOW_RISK_TERMS = [\"therapy\", \"counseling\", \"recovery\", \"meditation\",\n",
        "                 \"self care\", \"wellness\", \"support group\"]\n",
        "\n",
        "# Preprocess risk terms\n",
        "high_risk_tokens = [word_tokenize(phrase.lower()) for phrase in HIGH_RISK_TERMS]\n",
        "moderate_risk_tokens = [word_tokenize(phrase.lower()) for phrase in MODERATE_RISK_TERMS]\n",
        "low_risk_tokens = [word_tokenize(phrase.lower()) for phrase in LOW_RISK_TERMS]\n",
        "\n",
        "# Enhanced Risk Classification\n",
        "def get_word2vec_similarity(tokens, risk_tokens_list, model):\n",
        "    max_similarity = 0\n",
        "    for risk_tokens in risk_tokens_list:\n",
        "        for token in tokens:\n",
        "            for risk_token in risk_tokens:\n",
        "                try:\n",
        "                    similarity = model.wv.similarity(token, risk_token)\n",
        "                    max_similarity = max(max_similarity, similarity)\n",
        "                except KeyError:\n",
        "                    continue\n",
        "    return max_similarity\n",
        "\n",
        "def classify_risk(tokens, model):\n",
        "    high_risk_score = get_word2vec_similarity(tokens, high_risk_tokens, model)\n",
        "    moderate_risk_score = get_word2vec_similarity(tokens, moderate_risk_tokens, model)\n",
        "    low_risk_score = get_word2vec_similarity(tokens, low_risk_tokens, model)\n",
        "\n",
        "    if high_risk_score > 0.7:\n",
        "        return \"High-Risk\"\n",
        "    elif moderate_risk_score > 0.6:\n",
        "        return \"Moderate Concern\"\n",
        "    elif low_risk_score > 0.5:\n",
        "        return \"Low Concern\"\n",
        "    else:\n",
        "        return \"Neutral\"\n",
        "\n",
        "cleaned_df[\"Risk Level\"] = cleaned_df[\"Tokens\"].apply(lambda tokens: classify_risk(tokens, w2v_model))\n",
        "\n",
        "# Save Results\n",
        "output_csv_path = os.path.join(output_dir, \"reddit_crisis_data_analyzed.csv\")\n",
        "cleaned_df.to_csv(output_csv_path, index=False)\n",
        "print(f\"Results saved to {output_csv_path}\")\n",
        "\n",
        "# Enhanced Visualization\n",
        "plt.figure(figsize=(14, 6))\n",
        "\n",
        "# Sentiment Plot with custom colors\n",
        "plt.subplot(1, 2, 1)\n",
        "sentiment_colors = {'Positive': '#4CAF50', 'Negative': '#F44336', 'Neutral': '#FFC107'}\n",
        "cleaned_df[\"Sentiment\"].value_counts().plot(\n",
        "    kind=\"bar\",\n",
        "    title=\"Sentiment Distribution\",\n",
        "    color=[sentiment_colors[x] for x in cleaned_df[\"Sentiment\"].value_counts().index]\n",
        ")\n",
        "plt.xticks(rotation=45)\n",
        "\n",
        "# Risk Level Plot with custom colors\n",
        "plt.subplot(1, 2, 2)\n",
        "risk_colors = {\n",
        "    'High-Risk': '#D32F2F',\n",
        "    'Moderate Concern': '#FFA000',\n",
        "    'Low Concern': '#388E3C',\n",
        "    'Neutral': '#1976D2'\n",
        "}\n",
        "cleaned_df[\"Risk Level\"].value_counts().plot(\n",
        "    kind=\"bar\",\n",
        "    title=\"Risk Level Distribution\",\n",
        "    color=[risk_colors[x] for x in cleaned_df[\"Risk Level\"].value_counts().index]\n",
        ")\n",
        "plt.xticks(rotation=45)\n",
        "\n",
        "plt.tight_layout()\n",
        "\n",
        "# Save visualization\n",
        "plot_path = os.path.join(output_dir, \"sentiment_risk_distribution.png\")\n",
        "plt.savefig(plot_path, bbox_inches='tight', dpi=300)\n",
        "print(f\"Visualization saved to {plot_path}\")\n",
        "plt.show()\n",
        "\n",
        "print(\"\\nAnalysis Complete!\")"
      ],
      "metadata": {
        "colab": {
          "base_uri": "https://localhost:8080/",
          "height": 746
        },
        "id": "GUCGOSESXNlh",
        "outputId": "fc782292-e396-459f-ea02-adea4da8e982"
      },
      "execution_count": 8,
      "outputs": [
        {
          "output_type": "stream",
          "name": "stdout",
          "text": [
            "Drive already mounted at /content/drive; to attempt to forcibly remount, call drive.mount(\"/content/drive\", force_remount=True).\n",
            "Data Loaded Successfully\n"
          ]
        },
        {
          "output_type": "stream",
          "name": "stderr",
          "text": [
            "[nltk_data] Downloading package punkt to /root/nltk_data...\n",
            "[nltk_data]   Package punkt is already up-to-date!\n"
          ]
        },
        {
          "output_type": "stream",
          "name": "stdout",
          "text": [
            "Results saved to /content/drive/MyDrive/Reddit_Mental-Health_Data/Analysis_Results/reddit_crisis_data_analyzed.csv\n",
            "Visualization saved to /content/drive/MyDrive/Reddit_Mental-Health_Data/Analysis_Results/sentiment_risk_distribution.png\n"
          ]
        },
        {
          "output_type": "display_data",
          "data": {
            "text/plain": [
              "<Figure size 1400x600 with 2 Axes>"
            ],
            "image/png": "[encoded data removed]"
          },
          "metadata": {}
        },
        {
          "output_type": "stream",
          "name": "stdout",
          "text": [
            "\n",
            "Analysis Complete!\n"
          ]
        }
      ]
    },
    {
      "cell_type": "markdown",
      "source": [
        "## Task 3"
      ],
      "metadata": {
        "id": "_pxFANMqZEsy"
      }
    },
    {
      "cell_type": "markdown",
      "source": [],
      "metadata": {
        "id": "qHT9Ik1j8qdr"
      }
    },
    {
      "cell_type": "code",
      "source": [
        "import pandas as pd\n",
        "import numpy as np\n",
        "import re\n",
        "import spacy\n",
        "import folium\n",
        "from folium.plugins import HeatMap\n",
        "import plotly.express as px\n",
        "from geopy.geocoders import Nominatim\n",
        "from geopy.exc import GeocoderTimedOut, GeocoderUnavailable\n",
        "from collections import Counter\n",
        "import time\n",
        "import os\n",
        "\n",
        "# Set up directory structure\n",
        "base_dir = \"/content/drive/MyDrive/Reddit_Mental-Health_Data\"\n",
        "output_dir = os.path.join(base_dir, \"Analysis_Results\")\n",
        "os.makedirs(output_dir, exist_ok=True)\n",
        "\n",
        "# Load the dataset\n",
        "# Using the proper path with the directory structure\n",
        "data = pd.read_csv(os.path.join(output_dir, \"reddit_crisis_data_analyzed.csv\"))\n",
        "\n",
        "# Load SpaCy NLP model for named entity recognition\n",
        "print(\"Loading SpaCy model...\")\n",
        "nlp = spacy.load(\"en_core_web_sm\")\n",
        "\n",
        "def extract_locations(text):\n",
        "    \"\"\"Extract location entities from text using SpaCy\"\"\"\n",
        "    if not isinstance(text, str):\n",
        "        return []\n",
        "\n",
        "    doc = nlp(text)\n",
        "    locations = []\n",
        "\n",
        "    # Extract location entities (GPE = Geo-Political Entity, LOC = Location)\n",
        "    for ent in doc.ents:\n",
        "        if ent.label_ in [\"GPE\", \"LOC\"]:\n",
        "            locations.append(ent.text)\n",
        "\n",
        "    return locations\n",
        "\n",
        "def geocode_location(location_name):\n",
        "    \"\"\"Convert location name to coordinates\"\"\"\n",
        "    geolocator = Nominatim(user_agent=\"crisis_analyzer\")\n",
        "    try:\n",
        "        # Add \"USA\" to improve geocoding for US locations\n",
        "        location = geolocator.geocode(f\"{location_name}, USA\", exactly_one=True)\n",
        "        if location is None:\n",
        "            location = geolocator.geocode(location_name, exactly_one=True)\n",
        "\n",
        "        if location:\n",
        "            return (location.latitude, location.longitude)\n",
        "        return None\n",
        "    except (GeocoderTimedOut, GeocoderUnavailable):\n",
        "        # Handle timeouts by waiting and retrying once\n",
        "        time.sleep(1)\n",
        "        try:\n",
        "            location = geolocator.geocode(location_name, exactly_one=True)\n",
        "            if location:\n",
        "                return (location.latitude, location.longitude)\n",
        "            return None\n",
        "        except (GeocoderTimedOut, GeocoderUnavailable):\n",
        "            return None\n",
        "\n",
        "# Extract locations from post titles and content\n",
        "print(\"Extracting locations from dataset...\")\n",
        "data['extracted_locations'] = data['cleaned_content'].apply(extract_locations)\n",
        "\n",
        "# If there's a 'text' or 'content' column, extract from there too\n",
        "if 'text' in data.columns:\n",
        "    data['content_locations'] = data['text'].apply(extract_locations)\n",
        "    # Combine locations from title and content\n",
        "    data['extracted_locations'] = data.apply(\n",
        "        lambda row: row['extracted_locations'] + row['content_locations'], axis=1\n",
        "    )\n",
        "elif 'content' in data.columns:\n",
        "    data['content_locations'] = data['content'].apply(extract_locations)\n",
        "    # Combine locations from title and content\n",
        "    data['extracted_locations'] = data.apply(\n",
        "        lambda row: row['extracted_locations'] + row['content_locations'], axis=1\n",
        "    )\n",
        "\n",
        "# Get frequency count of all locations\n",
        "all_locations = []\n",
        "for loc_list in data['extracted_locations']:\n",
        "    all_locations.extend(loc_list)\n",
        "\n",
        "location_counts = Counter(all_locations)\n",
        "print(f\"Found {len(location_counts)} unique locations\")\n",
        "\n",
        "# Get the top 50 locations to geocode (to avoid geocoding all minor mentions)\n",
        "top_locations = location_counts.most_common(50)\n",
        "print(\"Top 10 locations mentioned:\")\n",
        "for loc, count in top_locations[:10]:\n",
        "    print(f\"- {loc}: {count} mentions\")\n",
        "\n",
        "# Create a dictionary to store location coordinates\n",
        "location_coordinates = {}\n",
        "\n",
        "print(\"Geocoding locations...\")\n",
        "for location, count in top_locations:\n",
        "    coords = geocode_location(location)\n",
        "    if coords:\n",
        "        location_coordinates[location] = coords\n",
        "        print(f\"Geocoded {location} to {coords}\")\n",
        "    else:\n",
        "        print(f\"Could not geocode {location}\")\n",
        "    # Be nice to the geocoding service with a delay\n",
        "    time.sleep(0.5)\n",
        "\n",
        "print(f\"Successfully geocoded {len(location_coordinates)} locations\")\n",
        "\n",
        "# Create a dataset for the heatmap\n",
        "heatmap_data = []\n",
        "for location, coords in location_coordinates.items():\n",
        "    weight = location_counts[location]  # Use the count as weight\n",
        "    lat, lon = coords\n",
        "    heatmap_data.append([lat, lon, weight])\n",
        "\n",
        "# Create Folium map centered on the US\n",
        "map_center = [39.8283, -98.5795]  # Center of the US\n",
        "crisis_map = folium.Map(location=map_center, zoom_start=4)\n",
        "\n",
        "# Add the heatmap\n",
        "HeatMap(heatmap_data).add_to(crisis_map)\n",
        "\n",
        "# Save the map to the output directory\n",
        "map_filename = os.path.join(output_dir, \"crisis_heatmap.html\")\n",
        "crisis_map.save(map_filename)\n",
        "print(f\"Saved heatmap to {map_filename}\")\n",
        "\n",
        "# Create a dataframe for the top locations\n",
        "top_locations_with_coords = []\n",
        "for loc, count in top_locations:\n",
        "    if loc in location_coordinates:\n",
        "        lat, lon = location_coordinates[loc]\n",
        "        top_locations_with_coords.append({\n",
        "            'location': loc,\n",
        "            'count': count,\n",
        "            'latitude': lat,\n",
        "            'longitude': lon\n",
        "        })\n",
        "\n",
        "top_df = pd.DataFrame(top_locations_with_coords)\n",
        "\n",
        "# Get the top 5 locations\n",
        "top_5_locations = top_df.nlargest(5, 'count')\n",
        "print(\"\\nTop 5 locations with highest crisis discussions:\")\n",
        "for i, row in top_5_locations.iterrows():\n",
        "    print(f\"{row['location']}: {row['count']} mentions\")\n",
        "\n",
        "# Create a Plotly map for the top 5 locations\n",
        "fig = px.scatter_geo(\n",
        "    top_5_locations,\n",
        "    lat='latitude',\n",
        "    lon='longitude',\n",
        "    size='count',\n",
        "    text='location',\n",
        "    scope='usa',\n",
        "    title='Top 5 Locations with Highest Crisis Discussions'\n",
        ")\n",
        "\n",
        "fig.update_traces(\n",
        "    marker=dict(color='red', line=dict(width=1, color='DarkSlateGrey')),\n",
        "    selector=dict(mode='markers+text'),\n",
        "    textposition='top center'\n",
        ")\n",
        "\n",
        "# Save the Plotly map to the output directory\n",
        "plotly_filename = os.path.join(output_dir, \"top_locations_map.html\")\n",
        "fig.write_html(plotly_filename)\n",
        "print(f\"Saved top locations map to {plotly_filename}\")\n",
        "\n",
        "# Additional regional analysis - crisis by US region\n",
        "def classify_region(lat, lon):\n",
        "    \"\"\"Classify coordinates into US regions\"\"\"\n",
        "    # Simplified region classification based on lat/lon\n",
        "    if lat > 39 and lon < -95:\n",
        "        return \"Northwest\"\n",
        "    elif lat > 39 and lon > -95:\n",
        "        return \"Northeast\"\n",
        "    elif lat <= 39 and lon < -95:\n",
        "        return \"Southwest\"\n",
        "    elif lat <= 39 and lon > -95:\n",
        "        return \"Southeast\"\n",
        "    else:\n",
        "        return \"Other\"\n",
        "\n",
        "# Add region classification to the dataframe\n",
        "top_df['region'] = top_df.apply(\n",
        "    lambda row: classify_region(row['latitude'], row['longitude']), axis=1\n",
        ")\n",
        "\n",
        "# Aggregate crisis mentions by region\n",
        "region_counts = top_df.groupby('region')['count'].sum().reset_index()\n",
        "print(\"\\nCrisis discussion distribution by region:\")\n",
        "print(region_counts)\n",
        "\n",
        "# Create a bar chart for regional distribution\n",
        "fig_bar = px.bar(\n",
        "    region_counts,\n",
        "    x='region',\n",
        "    y='count',\n",
        "    title='Crisis Discussions by US Region',\n",
        "    labels={'count': 'Number of Mentions', 'region': 'US Region'},\n",
        "    color='region'\n",
        ")\n",
        "\n",
        "# Save the regional bar chart to the output directory\n",
        "region_chart_filename = os.path.join(output_dir, \"regional_distribution.html\")\n",
        "fig_bar.write_html(region_chart_filename)\n",
        "print(f\"Saved regional distribution chart to {region_chart_filename}\")\n",
        "\n",
        "# Save the processed data with location information to the output directory\n",
        "data.to_csv(os.path.join(output_dir, \"reddit_crisis_data_with_locations.csv\"), index=False)\n",
        "print(\"Saved processed data with location information\")\n",
        "\n",
        "print(\"\\nAnalysis complete! Check the output files for visualizations.\")"
      ],
      "metadata": {
        "colab": {
          "base_uri": "https://localhost:8080/"
        },
        "id": "OETexXhsNkuu",
        "outputId": "a72cfe3a-3cb0-4cf0-8a6a-744b765e357b"
      },
      "execution_count": 9,
      "outputs": [
        {
          "output_type": "stream",
          "name": "stdout",
          "text": [
            "Loading SpaCy model...\n",
            "Extracting locations from dataset...\n",
            "Found 58 unique locations\n",
            "Top 10 locations mentioned:\n",
            "- kinda: 13 mentions\n",
            "- phobia: 5 mentions\n",
            "- canada: 4 mentions\n",
            "- uk: 4 mentions\n",
            "- malaysia: 4 mentions\n",
            "- florida: 3 mentions\n",
            "- netflix: 3 mentions\n",
            "- america: 3 mentions\n",
            "- pulseox: 3 mentions\n",
            "- realy: 2 mentions\n",
            "Geocoding locations...\n",
            "Geocoded kinda to (34.637491779641046, -118.23898704762348)\n",
            "Geocoded phobia to (32.7469774, -97.3254083)\n",
            "Geocoded canada to (37.6056575, -82.3243095)\n",
            "Geocoded uk to (38.026629099999994, -84.50472223981663)\n",
            "Geocoded malaysia to (38.9437332, -77.06917697652096)\n",
            "Geocoded florida to (27.7567667, -81.4639835)\n",
            "Geocoded netflix to (40.76376354999999, -73.97430267133896)\n"
          ]
        },
        {
          "output_type": "stream",
          "name": "stderr",
          "text": [
            "WARNING:urllib3.connectionpool:Retrying (Retry(total=1, connect=None, read=None, redirect=None, status=None)) after connection broken by 'ReadTimeoutError(\"HTTPSConnectionPool(host='nominatim.openstreetmap.org', port=443): Read timed out. (read timeout=1)\")': /search?q=america%2C+USA&format=json&limit=1\n"
          ]
        },
        {
          "output_type": "stream",
          "name": "stdout",
          "text": [
            "Geocoded america to (39.7837304, -100.445882)\n"
          ]
        },
        {
          "output_type": "stream",
          "name": "stderr",
          "text": [
            "WARNING:urllib3.connectionpool:Retrying (Retry(total=1, connect=None, read=None, redirect=None, status=None)) after connection broken by 'ReadTimeoutError(\"HTTPSConnectionPool(host='nominatim.openstreetmap.org', port=443): Read timed out. (read timeout=1)\")': /search?q=pulseox&format=json&limit=1\n",
            "WARNING:urllib3.connectionpool:Retrying (Retry(total=0, connect=None, read=None, redirect=None, status=None)) after connection broken by 'ReadTimeoutError(\"HTTPSConnectionPool(host='nominatim.openstreetmap.org', port=443): Read timed out. (read timeout=1)\")': /search?q=pulseox&format=json&limit=1\n"
          ]
        },
        {
          "output_type": "stream",
          "name": "stdout",
          "text": [
            "Could not geocode pulseox\n",
            "Geocoded realy to (41.7978252, 12.2473553)\n",
            "Geocoded sarasota to (27.3365805, -82.5308545)\n",
            "Geocoded texas to (31.2638905, -98.5456116)\n",
            "Geocoded india to (40.3764599, -79.1194757)\n",
            "Geocoded toronto to (41.9048584, -90.8640346)\n"
          ]
        },
        {
          "output_type": "stream",
          "name": "stderr",
          "text": [
            "WARNING:urllib3.connectionpool:Retrying (Retry(total=1, connect=None, read=None, redirect=None, status=None)) after connection broken by 'ReadTimeoutError(\"HTTPSConnectionPool(host='nominatim.openstreetmap.org', port=443): Read timed out. (read timeout=1)\")': /search?q=turkey%2C+USA&format=json&limit=1\n"
          ]
        },
        {
          "output_type": "stream",
          "name": "stdout",
          "text": [
            "Geocoded turkey to (34.3939184, -100.894078)\n",
            "Geocoded mexico city to (40.437631249999995, -80.00053119743275)\n"
          ]
        },
        {
          "output_type": "stream",
          "name": "stderr",
          "text": [
            "WARNING:urllib3.connectionpool:Retrying (Retry(total=1, connect=None, read=None, redirect=None, status=None)) after connection broken by 'ReadTimeoutError(\"HTTPSConnectionPool(host='nominatim.openstreetmap.org', port=443): Read timed out. (read timeout=1)\")': /search?q=pregabalin+zoloft&format=json&limit=1\n"
          ]
        },
        {
          "output_type": "stream",
          "name": "stdout",
          "text": [
            "Could not geocode pregabalin zoloft\n",
            "Geocoded france to (32.7569047, -97.0696914)\n",
            "Geocoded london to (37.1283343, -84.0835576)\n",
            "Geocoded denver to (39.7392364, -104.984862)\n",
            "Geocoded tachycardia to (3.310225, 31.3847817)\n",
            "Geocoded wisconsin to (44.4308975, -89.6884637)\n",
            "Geocoded mexico to (39.1697626, -91.8829484)\n",
            "Geocoded chicago to (41.8755616, -87.6244212)\n",
            "Geocoded wisteria to (37.9792046, -122.02903575926116)\n",
            "Geocoded grey to (48.40067355, -122.27823812395414)\n",
            "Geocoded ncis to (38.5105247, -77.3895836)\n",
            "Geocoded essentialy to (43.4498376, -80.488902)\n",
            "Geocoded concerta to (39.8604393, -75.0874143)\n"
          ]
        },
        {
          "output_type": "stream",
          "name": "stderr",
          "text": [
            "WARNING:urllib3.connectionpool:Retrying (Retry(total=1, connect=None, read=None, redirect=None, status=None)) after connection broken by 'ReadTimeoutError(\"HTTPSConnectionPool(host='nominatim.openstreetmap.org', port=443): Read timed out. (read timeout=1)\")': /search?q=bluri&format=json&limit=1\n"
          ]
        },
        {
          "output_type": "stream",
          "name": "stdout",
          "text": [
            "Geocoded bluri to (-6.9173271, 112.4201995)\n",
            "Geocoded manhattan to (40.7896239, -73.9598939)\n",
            "Geocoded california to (36.7014631, -118.755997)\n",
            "Geocoded new york to (40.7127281, -74.0060152)\n",
            "Geocoded condo to (36.7322841, -76.59324541774532)\n",
            "Geocoded belleville to (38.5135805, -89.9841627)\n",
            "Geocoded europe to (40.704476, -74.01381414642856)\n",
            "Geocoded missouri to (38.7604815, -92.5617875)\n",
            "Geocoded poisin to (44.63376555104639, 7.4304054119608525)\n",
            "Could not geocode asia youngest\n",
            "Geocoded middle east to (39.3014159, -76.5888477)\n",
            "Geocoded north korea to (40.7509106, -73.9710717)\n",
            "Geocoded israel to (39.3181528, -79.8109014)\n",
            "Could not geocode hemophobia\n",
            "Geocoded georgia to (32.3293809, -83.1137366)\n",
            "Geocoded colombia to (40.735546850000006, -73.86161701666221)\n",
            "Geocoded spain to (45.7030061, -97.7859363)\n",
            "Geocoded indonesia to (-4.5271203, 120.2077887)\n"
          ]
        },
        {
          "output_type": "stream",
          "name": "stderr",
          "text": [
            "WARNING:urllib3.connectionpool:Retrying (Retry(total=1, connect=None, read=None, redirect=None, status=None)) after connection broken by 'ReadTimeoutError(\"HTTPSConnectionPool(host='nominatim.openstreetmap.org', port=443): Read timed out. (read timeout=1)\")': /search?q=hypochondria&format=json&limit=1\n"
          ]
        },
        {
          "output_type": "stream",
          "name": "stdout",
          "text": [
            "Could not geocode hypochondria\n",
            "Geocoded africa to (40.70447885, -74.01404387498147)\n",
            "Could not geocode snris\n",
            "Successfully geocoded 44 locations\n",
            "Saved heatmap to /content/drive/MyDrive/Reddit_Mental-Health_Data/Analysis_Results/crisis_heatmap.html\n",
            "\n",
            "Top 5 locations with highest crisis discussions:\n",
            "kinda: 13 mentions\n",
            "phobia: 5 mentions\n",
            "canada: 4 mentions\n",
            "uk: 4 mentions\n",
            "malaysia: 4 mentions\n",
            "Saved top locations map to /content/drive/MyDrive/Reddit_Mental-Health_Data/Analysis_Results/top_locations_map.html\n",
            "\n",
            "Crisis discussion distribution by region:\n",
            "      region  count\n",
            "0  Northeast     25\n",
            "1  Northwest      7\n",
            "2  Southeast     27\n",
            "3  Southwest     26\n",
            "Saved regional distribution chart to /content/drive/MyDrive/Reddit_Mental-Health_Data/Analysis_Results/regional_distribution.html\n",
            "Saved processed data with location information\n",
            "\n",
            "Analysis complete! Check the output files for visualizations.\n"
          ]
        }
      ]
    },
    {
      "cell_type": "code",
      "source": [],
      "metadata": {
        "id": "dzZSZr1IIqGD"
      },
      "execution_count": null,
      "outputs": []
    }
  ]
}